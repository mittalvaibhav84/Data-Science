{
 "cells": [
  {
   "cell_type": "markdown",
   "id": "fff8e64b",
   "metadata": {},
   "source": [
    "# Used Cars Feature Analysis (Vehicles listings from Craigslist.org)"
   ]
  },
  {
   "cell_type": "code",
   "execution_count": 1,
   "id": "daf712ad",
   "metadata": {},
   "outputs": [],
   "source": [
    "import os,sys\n",
    "import numpy as np\n",
    "import pandas as pd\n",
    "import seaborn as sns\n",
    "sns.set()\n",
    "import warnings\n",
    "warnings.filterwarnings('ignore')"
   ]
  },
  {
   "cell_type": "code",
   "execution_count": 2,
   "id": "6cf2555e",
   "metadata": {},
   "outputs": [],
   "source": [
    "CarsDf = pd.read_csv('vehicles.csv')"
   ]
  },
  {
   "cell_type": "code",
   "execution_count": 3,
   "id": "d09a288d",
   "metadata": {},
   "outputs": [
    {
     "name": "stdout",
     "output_type": "stream",
     "text": [
      "<class 'pandas.core.frame.DataFrame'>\n",
      "RangeIndex: 426880 entries, 0 to 426879\n",
      "Data columns (total 26 columns):\n",
      " #   Column        Non-Null Count   Dtype  \n",
      "---  ------        --------------   -----  \n",
      " 0   id            426880 non-null  int64  \n",
      " 1   url           426880 non-null  object \n",
      " 2   region        426880 non-null  object \n",
      " 3   region_url    426880 non-null  object \n",
      " 4   price         426880 non-null  int64  \n",
      " 5   year          425675 non-null  float64\n",
      " 6   manufacturer  409234 non-null  object \n",
      " 7   model         421603 non-null  object \n",
      " 8   condition     252776 non-null  object \n",
      " 9   cylinders     249202 non-null  object \n",
      " 10  fuel          423867 non-null  object \n",
      " 11  odometer      422480 non-null  float64\n",
      " 12  title_status  418638 non-null  object \n",
      " 13  transmission  424324 non-null  object \n",
      " 14  VIN           265838 non-null  object \n",
      " 15  drive         296313 non-null  object \n",
      " 16  size          120519 non-null  object \n",
      " 17  type          334022 non-null  object \n",
      " 18  paint_color   296677 non-null  object \n",
      " 19  image_url     426812 non-null  object \n",
      " 20  description   426810 non-null  object \n",
      " 21  county        0 non-null       float64\n",
      " 22  state         426880 non-null  object \n",
      " 23  lat           420331 non-null  float64\n",
      " 24  long          420331 non-null  float64\n",
      " 25  posting_date  426812 non-null  object \n",
      "dtypes: float64(5), int64(2), object(19)\n",
      "memory usage: 84.7+ MB\n",
      "None\n"
     ]
    }
   ],
   "source": [
    "print(CarsDf.info())"
   ]
  },
  {
   "cell_type": "code",
   "execution_count": 4,
   "id": "3a51747f",
   "metadata": {},
   "outputs": [
    {
     "name": "stdout",
     "output_type": "stream",
     "text": [
      "           id                                                url  \\\n",
      "0  7222695916  https://prescott.craigslist.org/cto/d/prescott...   \n",
      "1  7218891961  https://fayar.craigslist.org/ctd/d/bentonville...   \n",
      "2  7221797935  https://keys.craigslist.org/cto/d/summerland-k...   \n",
      "3  7222270760  https://worcester.craigslist.org/cto/d/west-br...   \n",
      "4  7210384030  https://greensboro.craigslist.org/cto/d/trinit...   \n",
      "\n",
      "                   region                         region_url  price  year  \\\n",
      "0                prescott    https://prescott.craigslist.org   6000   NaN   \n",
      "1            fayetteville       https://fayar.craigslist.org  11900   NaN   \n",
      "2            florida keys        https://keys.craigslist.org  21000   NaN   \n",
      "3  worcester / central MA   https://worcester.craigslist.org   1500   NaN   \n",
      "4              greensboro  https://greensboro.craigslist.org   4900   NaN   \n",
      "\n",
      "  manufacturer model condition cylinders  ... size  type paint_color  \\\n",
      "0          NaN   NaN       NaN       NaN  ...  NaN   NaN         NaN   \n",
      "1          NaN   NaN       NaN       NaN  ...  NaN   NaN         NaN   \n",
      "2          NaN   NaN       NaN       NaN  ...  NaN   NaN         NaN   \n",
      "3          NaN   NaN       NaN       NaN  ...  NaN   NaN         NaN   \n",
      "4          NaN   NaN       NaN       NaN  ...  NaN   NaN         NaN   \n",
      "\n",
      "  image_url description county state lat long posting_date  \n",
      "0       NaN         NaN    NaN    az NaN  NaN          NaN  \n",
      "1       NaN         NaN    NaN    ar NaN  NaN          NaN  \n",
      "2       NaN         NaN    NaN    fl NaN  NaN          NaN  \n",
      "3       NaN         NaN    NaN    ma NaN  NaN          NaN  \n",
      "4       NaN         NaN    NaN    nc NaN  NaN          NaN  \n",
      "\n",
      "[5 rows x 26 columns]\n"
     ]
    }
   ],
   "source": [
    "print(CarsDf.head())"
   ]
  },
  {
   "cell_type": "markdown",
   "id": "eeebf5b8",
   "metadata": {},
   "source": [
    "## Preprocessing of Data"
   ]
  },
  {
   "cell_type": "markdown",
   "id": "2fe39aee",
   "metadata": {},
   "source": [
    "Dropping following columns as these feature will not affect used car price in any way:\n",
    "1. id\n",
    "2. region - Dropping it as state is already there which can effect price\n",
    "3. url\n",
    "4. region_url\n",
    "5. title_status\n",
    "6. VIN\n",
    "7. size - As 72% data is null so dropping it.\n",
    "8. image_url\n",
    "9. description\n",
    "10. county - Dropping it as 100% data is NULL.\n",
    "11. lat\n",
    "12. long\n",
    "13. posting_date - It won't effect price as only manufacturing year matters\n",
    "14. manufacturer - Dropping it as model feature is already there which is unique to manufacturer so manufacturer information is captured in model"
   ]
  },
  {
   "cell_type": "code",
   "execution_count": 5,
   "id": "24f461ab",
   "metadata": {},
   "outputs": [],
   "source": [
    "drop_columns = ['id', 'region', 'url', 'region_url', 'title_status', 'VIN', 'size', 'image_url', 'description', \n",
    "                'county', 'lat', 'long', 'posting_date', 'manufacturer']\n",
    "CarsDf.drop(columns=drop_columns, axis=1, inplace=True)"
   ]
  },
  {
   "cell_type": "code",
   "execution_count": 6,
   "id": "3d0a5e9f",
   "metadata": {},
   "outputs": [
    {
     "name": "stdout",
     "output_type": "stream",
     "text": [
      "   price  year model condition cylinders fuel  odometer transmission drive  \\\n",
      "0   6000   NaN   NaN       NaN       NaN  NaN       NaN          NaN   NaN   \n",
      "1  11900   NaN   NaN       NaN       NaN  NaN       NaN          NaN   NaN   \n",
      "2  21000   NaN   NaN       NaN       NaN  NaN       NaN          NaN   NaN   \n",
      "3   1500   NaN   NaN       NaN       NaN  NaN       NaN          NaN   NaN   \n",
      "4   4900   NaN   NaN       NaN       NaN  NaN       NaN          NaN   NaN   \n",
      "\n",
      "  type paint_color state  \n",
      "0  NaN         NaN    az  \n",
      "1  NaN         NaN    ar  \n",
      "2  NaN         NaN    fl  \n",
      "3  NaN         NaN    ma  \n",
      "4  NaN         NaN    nc  \n"
     ]
    }
   ],
   "source": [
    "print(CarsDf.head())"
   ]
  },
  {
   "cell_type": "code",
   "execution_count": 7,
   "id": "551c413b",
   "metadata": {},
   "outputs": [
    {
     "name": "stdout",
     "output_type": "stream",
     "text": [
      "Index(['price', 'year', 'model', 'condition', 'cylinders', 'fuel', 'odometer',\n",
      "       'transmission', 'drive', 'type', 'paint_color', 'state'],\n",
      "      dtype='object')\n"
     ]
    }
   ],
   "source": [
    "print(CarsDf.columns)"
   ]
  },
  {
   "cell_type": "code",
   "execution_count": 8,
   "id": "0d41936c",
   "metadata": {},
   "outputs": [
    {
     "name": "stdout",
     "output_type": "stream",
     "text": [
      "<class 'pandas.core.frame.DataFrame'>\n",
      "RangeIndex: 426880 entries, 0 to 426879\n",
      "Data columns (total 12 columns):\n",
      " #   Column        Non-Null Count   Dtype  \n",
      "---  ------        --------------   -----  \n",
      " 0   price         426880 non-null  int64  \n",
      " 1   year          425675 non-null  float64\n",
      " 2   model         421603 non-null  object \n",
      " 3   condition     252776 non-null  object \n",
      " 4   cylinders     249202 non-null  object \n",
      " 5   fuel          423867 non-null  object \n",
      " 6   odometer      422480 non-null  float64\n",
      " 7   transmission  424324 non-null  object \n",
      " 8   drive         296313 non-null  object \n",
      " 9   type          334022 non-null  object \n",
      " 10  paint_color   296677 non-null  object \n",
      " 11  state         426880 non-null  object \n",
      "dtypes: float64(2), int64(1), object(9)\n",
      "memory usage: 39.1+ MB\n"
     ]
    }
   ],
   "source": [
    "CarsDf.info()"
   ]
  },
  {
   "cell_type": "markdown",
   "id": "d4005396",
   "metadata": {},
   "source": [
    "Analyzing the normal distribution of continuous variables"
   ]
  },
  {
   "cell_type": "code",
   "execution_count": 9,
   "id": "839e50a5",
   "metadata": {},
   "outputs": [
    {
     "data": {
      "text/plain": [
       "<AxesSubplot:xlabel='odometer', ylabel='Density'>"
      ]
     },
     "execution_count": 9,
     "metadata": {},
     "output_type": "execute_result"
    },
    {
     "data": {
      "image/png": "[encoded data removed]",
      "text/plain": [
       "<Figure size 432x288 with 1 Axes>"
      ]
     },
     "metadata": {},
     "output_type": "display_data"
    }
   ],
   "source": [
    "sns.distplot(CarsDf.odometer)"
   ]
  },
  {
   "cell_type": "code",
   "execution_count": 10,
   "id": "ce2bec45",
   "metadata": {},
   "outputs": [
    {
     "data": {
      "text/plain": [
       "<AxesSubplot:xlabel='price'>"
      ]
     },
     "execution_count": 10,
     "metadata": {},
     "output_type": "execute_result"
    },
    {
     "data": {
      "image/png": "[encoded data removed]",
      "text/plain": [
       "<Figure size 432x288 with 1 Axes>"
      ]
     },
     "metadata": {},
     "output_type": "display_data"
    }
   ],
   "source": [
    "sns.distplot(CarsDf.price, kde=False)"
   ]
  },
  {
   "cell_type": "code",
   "execution_count": 11,
   "id": "89eafa3b",
   "metadata": {},
   "outputs": [
    {
     "data": {
      "text/html": [
       "<div>\n",
       "<style scoped>\n",
       "    .dataframe tbody tr th:only-of-type {\n",
       "        vertical-align: middle;\n",
       "    }\n",
       "\n",
       "    .dataframe tbody tr th {\n",
       "        vertical-align: top;\n",
       "    }\n",
       "\n",
       "    .dataframe thead th {\n",
       "        text-align: right;\n",
       "    }\n",
       "</style>\n",
       "<table border=\"1\" class=\"dataframe\">\n",
       "  <thead>\n",
       "    <tr style=\"text-align: right;\">\n",
       "      <th></th>\n",
       "      <th>price</th>\n",
       "      <th>year</th>\n",
       "      <th>odometer</th>\n",
       "    </tr>\n",
       "  </thead>\n",
       "  <tbody>\n",
       "    <tr>\n",
       "      <th>count</th>\n",
       "      <td>4.268800e+05</td>\n",
       "      <td>425675.000000</td>\n",
       "      <td>4.224800e+05</td>\n",
       "    </tr>\n",
       "    <tr>\n",
       "      <th>mean</th>\n",
       "      <td>7.519903e+04</td>\n",
       "      <td>2011.235191</td>\n",
       "      <td>9.804333e+04</td>\n",
       "    </tr>\n",
       "    <tr>\n",
       "      <th>std</th>\n",
       "      <td>1.218228e+07</td>\n",
       "      <td>9.452120</td>\n",
       "      <td>2.138815e+05</td>\n",
       "    </tr>\n",
       "    <tr>\n",
       "      <th>min</th>\n",
       "      <td>0.000000e+00</td>\n",
       "      <td>1900.000000</td>\n",
       "      <td>0.000000e+00</td>\n",
       "    </tr>\n",
       "    <tr>\n",
       "      <th>25%</th>\n",
       "      <td>5.900000e+03</td>\n",
       "      <td>2008.000000</td>\n",
       "      <td>3.770400e+04</td>\n",
       "    </tr>\n",
       "    <tr>\n",
       "      <th>50%</th>\n",
       "      <td>1.395000e+04</td>\n",
       "      <td>2013.000000</td>\n",
       "      <td>8.554800e+04</td>\n",
       "    </tr>\n",
       "    <tr>\n",
       "      <th>75%</th>\n",
       "      <td>2.648575e+04</td>\n",
       "      <td>2017.000000</td>\n",
       "      <td>1.335425e+05</td>\n",
       "    </tr>\n",
       "    <tr>\n",
       "      <th>max</th>\n",
       "      <td>3.736929e+09</td>\n",
       "      <td>2022.000000</td>\n",
       "      <td>1.000000e+07</td>\n",
       "    </tr>\n",
       "  </tbody>\n",
       "</table>\n",
       "</div>"
      ],
      "text/plain": [
       "              price           year      odometer\n",
       "count  4.268800e+05  425675.000000  4.224800e+05\n",
       "mean   7.519903e+04    2011.235191  9.804333e+04\n",
       "std    1.218228e+07       9.452120  2.138815e+05\n",
       "min    0.000000e+00    1900.000000  0.000000e+00\n",
       "25%    5.900000e+03    2008.000000  3.770400e+04\n",
       "50%    1.395000e+04    2013.000000  8.554800e+04\n",
       "75%    2.648575e+04    2017.000000  1.335425e+05\n",
       "max    3.736929e+09    2022.000000  1.000000e+07"
      ]
     },
     "execution_count": 11,
     "metadata": {},
     "output_type": "execute_result"
    }
   ],
   "source": [
    "CarsDf.describe()"
   ]
  },
  {
   "cell_type": "code",
   "execution_count": 12,
   "id": "bfa47368",
   "metadata": {},
   "outputs": [
    {
     "data": {
      "text/plain": [
       "<AxesSubplot:xlabel='odometer', ylabel='price'>"
      ]
     },
     "execution_count": 12,
     "metadata": {},
     "output_type": "execute_result"
    },
    {
     "data": {
      "image/png": "[encoded data removed]",
      "text/plain": [
       "<Figure size 432x288 with 1 Axes>"
      ]
     },
     "metadata": {},
     "output_type": "display_data"
    }
   ],
   "source": [
    "sns.scatterplot(x=CarsDf.odometer,y=CarsDf.price)"
   ]
  },
  {
   "cell_type": "code",
   "execution_count": 13,
   "id": "f0f90da5",
   "metadata": {},
   "outputs": [
    {
     "data": {
      "text/plain": [
       "price            15655\n",
       "year               114\n",
       "model            29667\n",
       "condition            6\n",
       "cylinders            8\n",
       "fuel                 5\n",
       "odometer        104870\n",
       "transmission         3\n",
       "drive                3\n",
       "type                13\n",
       "paint_color         12\n",
       "state               51\n",
       "dtype: int64"
      ]
     },
     "execution_count": 13,
     "metadata": {},
     "output_type": "execute_result"
    }
   ],
   "source": [
    "CarsDf.nunique()"
   ]
  },
  {
   "cell_type": "code",
   "execution_count": 14,
   "id": "7a7c0376",
   "metadata": {},
   "outputs": [
    {
     "data": {
      "text/html": [
       "<div>\n",
       "<style scoped>\n",
       "    .dataframe tbody tr th:only-of-type {\n",
       "        vertical-align: middle;\n",
       "    }\n",
       "\n",
       "    .dataframe tbody tr th {\n",
       "        vertical-align: top;\n",
       "    }\n",
       "\n",
       "    .dataframe thead th {\n",
       "        text-align: right;\n",
       "    }\n",
       "</style>\n",
       "<table border=\"1\" class=\"dataframe\">\n",
       "  <thead>\n",
       "    <tr style=\"text-align: right;\">\n",
       "      <th></th>\n",
       "      <th>price</th>\n",
       "      <th>year</th>\n",
       "      <th>model</th>\n",
       "      <th>condition</th>\n",
       "      <th>cylinders</th>\n",
       "      <th>fuel</th>\n",
       "      <th>odometer</th>\n",
       "      <th>transmission</th>\n",
       "      <th>drive</th>\n",
       "      <th>type</th>\n",
       "      <th>paint_color</th>\n",
       "      <th>state</th>\n",
       "    </tr>\n",
       "  </thead>\n",
       "  <tbody>\n",
       "    <tr>\n",
       "      <th>426875</th>\n",
       "      <td>23590</td>\n",
       "      <td>2019.0</td>\n",
       "      <td>maxima s sedan 4d</td>\n",
       "      <td>good</td>\n",
       "      <td>6 cylinders</td>\n",
       "      <td>gas</td>\n",
       "      <td>32226.0</td>\n",
       "      <td>other</td>\n",
       "      <td>fwd</td>\n",
       "      <td>sedan</td>\n",
       "      <td>NaN</td>\n",
       "      <td>wy</td>\n",
       "    </tr>\n",
       "    <tr>\n",
       "      <th>426876</th>\n",
       "      <td>30590</td>\n",
       "      <td>2020.0</td>\n",
       "      <td>s60 t5 momentum sedan 4d</td>\n",
       "      <td>good</td>\n",
       "      <td>NaN</td>\n",
       "      <td>gas</td>\n",
       "      <td>12029.0</td>\n",
       "      <td>other</td>\n",
       "      <td>fwd</td>\n",
       "      <td>sedan</td>\n",
       "      <td>red</td>\n",
       "      <td>wy</td>\n",
       "    </tr>\n",
       "    <tr>\n",
       "      <th>426877</th>\n",
       "      <td>34990</td>\n",
       "      <td>2020.0</td>\n",
       "      <td>xt4 sport suv 4d</td>\n",
       "      <td>good</td>\n",
       "      <td>NaN</td>\n",
       "      <td>diesel</td>\n",
       "      <td>4174.0</td>\n",
       "      <td>other</td>\n",
       "      <td>NaN</td>\n",
       "      <td>hatchback</td>\n",
       "      <td>white</td>\n",
       "      <td>wy</td>\n",
       "    </tr>\n",
       "    <tr>\n",
       "      <th>426878</th>\n",
       "      <td>28990</td>\n",
       "      <td>2018.0</td>\n",
       "      <td>es 350 sedan 4d</td>\n",
       "      <td>good</td>\n",
       "      <td>6 cylinders</td>\n",
       "      <td>gas</td>\n",
       "      <td>30112.0</td>\n",
       "      <td>other</td>\n",
       "      <td>fwd</td>\n",
       "      <td>sedan</td>\n",
       "      <td>silver</td>\n",
       "      <td>wy</td>\n",
       "    </tr>\n",
       "    <tr>\n",
       "      <th>426879</th>\n",
       "      <td>30590</td>\n",
       "      <td>2019.0</td>\n",
       "      <td>4 series 430i gran coupe</td>\n",
       "      <td>good</td>\n",
       "      <td>NaN</td>\n",
       "      <td>gas</td>\n",
       "      <td>22716.0</td>\n",
       "      <td>other</td>\n",
       "      <td>rwd</td>\n",
       "      <td>coupe</td>\n",
       "      <td>NaN</td>\n",
       "      <td>wy</td>\n",
       "    </tr>\n",
       "  </tbody>\n",
       "</table>\n",
       "</div>"
      ],
      "text/plain": [
       "        price    year                     model condition    cylinders  \\\n",
       "426875  23590  2019.0         maxima s sedan 4d      good  6 cylinders   \n",
       "426876  30590  2020.0  s60 t5 momentum sedan 4d      good          NaN   \n",
       "426877  34990  2020.0          xt4 sport suv 4d      good          NaN   \n",
       "426878  28990  2018.0           es 350 sedan 4d      good  6 cylinders   \n",
       "426879  30590  2019.0  4 series 430i gran coupe      good          NaN   \n",
       "\n",
       "          fuel  odometer transmission drive       type paint_color state  \n",
       "426875     gas   32226.0        other   fwd      sedan         NaN    wy  \n",
       "426876     gas   12029.0        other   fwd      sedan         red    wy  \n",
       "426877  diesel    4174.0        other   NaN  hatchback       white    wy  \n",
       "426878     gas   30112.0        other   fwd      sedan      silver    wy  \n",
       "426879     gas   22716.0        other   rwd      coupe         NaN    wy  "
      ]
     },
     "execution_count": 14,
     "metadata": {},
     "output_type": "execute_result"
    }
   ],
   "source": [
    "CarsDf.tail()"
   ]
  },
  {
   "cell_type": "code",
   "execution_count": 15,
   "id": "c373c2f6",
   "metadata": {},
   "outputs": [
    {
     "data": {
      "text/plain": [
       "dtype('O')"
      ]
     },
     "execution_count": 15,
     "metadata": {},
     "output_type": "execute_result"
    }
   ],
   "source": [
    "CarsDf.year = CarsDf.year.astype('object')\n",
    "CarsDf.year.dtype"
   ]
  },
  {
   "cell_type": "markdown",
   "id": "33d4dd70",
   "metadata": {},
   "source": [
    "Filling missing value of odometer with median as it is not affected by outlier."
   ]
  },
  {
   "cell_type": "code",
   "execution_count": 16,
   "id": "416304d7",
   "metadata": {},
   "outputs": [],
   "source": [
    "CarsDf.fillna(CarsDf.median(numeric_only=True), inplace=True)"
   ]
  },
  {
   "cell_type": "code",
   "execution_count": 17,
   "id": "bf58547f",
   "metadata": {},
   "outputs": [
    {
     "name": "stdout",
     "output_type": "stream",
     "text": [
      "<class 'pandas.core.frame.DataFrame'>\n",
      "RangeIndex: 426880 entries, 0 to 426879\n",
      "Data columns (total 12 columns):\n",
      " #   Column        Non-Null Count   Dtype  \n",
      "---  ------        --------------   -----  \n",
      " 0   price         426880 non-null  int64  \n",
      " 1   year          425675 non-null  object \n",
      " 2   model         421603 non-null  object \n",
      " 3   condition     252776 non-null  object \n",
      " 4   cylinders     249202 non-null  object \n",
      " 5   fuel          423867 non-null  object \n",
      " 6   odometer      426880 non-null  float64\n",
      " 7   transmission  424324 non-null  object \n",
      " 8   drive         296313 non-null  object \n",
      " 9   type          334022 non-null  object \n",
      " 10  paint_color   296677 non-null  object \n",
      " 11  state         426880 non-null  object \n",
      "dtypes: float64(1), int64(1), object(10)\n",
      "memory usage: 39.1+ MB\n"
     ]
    }
   ],
   "source": [
    "CarsDf.info()"
   ]
  },
  {
   "cell_type": "markdown",
   "id": "dbfecfd0",
   "metadata": {},
   "source": [
    "Filling all categorical columns with mode value of that column"
   ]
  },
  {
   "cell_type": "code",
   "execution_count": 18,
   "id": "e5f96f8d",
   "metadata": {},
   "outputs": [],
   "source": [
    "CarsDf = CarsDf.apply(lambda x: x.fillna(x.value_counts().index[0]))"
   ]
  },
  {
   "cell_type": "code",
   "execution_count": 19,
   "id": "e33385f1",
   "metadata": {},
   "outputs": [],
   "source": [
    "CarsDf.year = CarsDf.year.astype('int')\n",
    "CarsDf.odometer = CarsDf.odometer.astype('int')"
   ]
  },
  {
   "cell_type": "code",
   "execution_count": 20,
   "id": "e43e18fb",
   "metadata": {},
   "outputs": [
    {
     "data": {
      "text/html": [
       "<div>\n",
       "<style scoped>\n",
       "    .dataframe tbody tr th:only-of-type {\n",
       "        vertical-align: middle;\n",
       "    }\n",
       "\n",
       "    .dataframe tbody tr th {\n",
       "        vertical-align: top;\n",
       "    }\n",
       "\n",
       "    .dataframe thead th {\n",
       "        text-align: right;\n",
       "    }\n",
       "</style>\n",
       "<table border=\"1\" class=\"dataframe\">\n",
       "  <thead>\n",
       "    <tr style=\"text-align: right;\">\n",
       "      <th></th>\n",
       "      <th>price</th>\n",
       "      <th>year</th>\n",
       "      <th>model</th>\n",
       "      <th>condition</th>\n",
       "      <th>cylinders</th>\n",
       "      <th>fuel</th>\n",
       "      <th>odometer</th>\n",
       "      <th>transmission</th>\n",
       "      <th>drive</th>\n",
       "      <th>type</th>\n",
       "      <th>paint_color</th>\n",
       "      <th>state</th>\n",
       "    </tr>\n",
       "  </thead>\n",
       "  <tbody>\n",
       "    <tr>\n",
       "      <th>0</th>\n",
       "      <td>6000</td>\n",
       "      <td>2017</td>\n",
       "      <td>f-150</td>\n",
       "      <td>good</td>\n",
       "      <td>6 cylinders</td>\n",
       "      <td>gas</td>\n",
       "      <td>85548</td>\n",
       "      <td>automatic</td>\n",
       "      <td>4wd</td>\n",
       "      <td>sedan</td>\n",
       "      <td>white</td>\n",
       "      <td>az</td>\n",
       "    </tr>\n",
       "    <tr>\n",
       "      <th>1</th>\n",
       "      <td>11900</td>\n",
       "      <td>2017</td>\n",
       "      <td>f-150</td>\n",
       "      <td>good</td>\n",
       "      <td>6 cylinders</td>\n",
       "      <td>gas</td>\n",
       "      <td>85548</td>\n",
       "      <td>automatic</td>\n",
       "      <td>4wd</td>\n",
       "      <td>sedan</td>\n",
       "      <td>white</td>\n",
       "      <td>ar</td>\n",
       "    </tr>\n",
       "    <tr>\n",
       "      <th>2</th>\n",
       "      <td>21000</td>\n",
       "      <td>2017</td>\n",
       "      <td>f-150</td>\n",
       "      <td>good</td>\n",
       "      <td>6 cylinders</td>\n",
       "      <td>gas</td>\n",
       "      <td>85548</td>\n",
       "      <td>automatic</td>\n",
       "      <td>4wd</td>\n",
       "      <td>sedan</td>\n",
       "      <td>white</td>\n",
       "      <td>fl</td>\n",
       "    </tr>\n",
       "    <tr>\n",
       "      <th>3</th>\n",
       "      <td>1500</td>\n",
       "      <td>2017</td>\n",
       "      <td>f-150</td>\n",
       "      <td>good</td>\n",
       "      <td>6 cylinders</td>\n",
       "      <td>gas</td>\n",
       "      <td>85548</td>\n",
       "      <td>automatic</td>\n",
       "      <td>4wd</td>\n",
       "      <td>sedan</td>\n",
       "      <td>white</td>\n",
       "      <td>ma</td>\n",
       "    </tr>\n",
       "    <tr>\n",
       "      <th>4</th>\n",
       "      <td>4900</td>\n",
       "      <td>2017</td>\n",
       "      <td>f-150</td>\n",
       "      <td>good</td>\n",
       "      <td>6 cylinders</td>\n",
       "      <td>gas</td>\n",
       "      <td>85548</td>\n",
       "      <td>automatic</td>\n",
       "      <td>4wd</td>\n",
       "      <td>sedan</td>\n",
       "      <td>white</td>\n",
       "      <td>nc</td>\n",
       "    </tr>\n",
       "  </tbody>\n",
       "</table>\n",
       "</div>"
      ],
      "text/plain": [
       "   price  year  model condition    cylinders fuel  odometer transmission  \\\n",
       "0   6000  2017  f-150      good  6 cylinders  gas     85548    automatic   \n",
       "1  11900  2017  f-150      good  6 cylinders  gas     85548    automatic   \n",
       "2  21000  2017  f-150      good  6 cylinders  gas     85548    automatic   \n",
       "3   1500  2017  f-150      good  6 cylinders  gas     85548    automatic   \n",
       "4   4900  2017  f-150      good  6 cylinders  gas     85548    automatic   \n",
       "\n",
       "  drive   type paint_color state  \n",
       "0   4wd  sedan       white    az  \n",
       "1   4wd  sedan       white    ar  \n",
       "2   4wd  sedan       white    fl  \n",
       "3   4wd  sedan       white    ma  \n",
       "4   4wd  sedan       white    nc  "
      ]
     },
     "execution_count": 20,
     "metadata": {},
     "output_type": "execute_result"
    }
   ],
   "source": [
    "CarsDf.head()"
   ]
  },
  {
   "cell_type": "code",
   "execution_count": 21,
   "id": "8e491cd1",
   "metadata": {},
   "outputs": [
    {
     "data": {
      "text/plain": [
       "price            15655\n",
       "year               114\n",
       "model            29667\n",
       "condition            6\n",
       "cylinders            8\n",
       "fuel                 5\n",
       "odometer        104870\n",
       "transmission         3\n",
       "drive                3\n",
       "type                13\n",
       "paint_color         12\n",
       "state               51\n",
       "dtype: int64"
      ]
     },
     "execution_count": 21,
     "metadata": {},
     "output_type": "execute_result"
    }
   ],
   "source": [
    "CarsDf.nunique()"
   ]
  },
  {
   "cell_type": "code",
   "execution_count": 22,
   "id": "99a95d64",
   "metadata": {},
   "outputs": [
    {
     "data": {
      "text/plain": [
       "f-150                       13286\n",
       "silverado 1500               5140\n",
       "1500                         4211\n",
       "camry                        3135\n",
       "silverado                    3023\n",
       "                            ...  \n",
       "Huyndai Sante Fe Limited        1\n",
       "astro awd 4x4                   1\n",
       "escalade and                    1\n",
       "cx 3                            1\n",
       "Paige Glenbrook Touring         1\n",
       "Name: model, Length: 29667, dtype: int64"
      ]
     },
     "execution_count": 22,
     "metadata": {},
     "output_type": "execute_result"
    }
   ],
   "source": [
    "CarsDf.model.value_counts()"
   ]
  },
  {
   "cell_type": "markdown",
   "id": "b585d23e",
   "metadata": {},
   "source": [
    "## FEATURE ENGINEERING"
   ]
  },
  {
   "cell_type": "markdown",
   "id": "c859f92d",
   "metadata": {},
   "source": [
    "###### 2.1 Creation of Hyphoteses\n",
    "2.1.1 Condition Hyphoteses\n",
    "\n",
    "1. Used cars with silver or black painting should be expensive.\n",
    "\n",
    "2. Used cars which has interior with good condition should be expensive.\n",
    "\n",
    "3. Used cars with high Mailage should be cheaper.\n",
    "\n",
    "4. Used cars with better Appearance should be expensive.\n",
    "\n",
    "5. Used cars wich has a good Mechanical should be expensive.\n",
    "\n",
    "6. Used cars with any Insurance should be cheaper.\n",
    "2.1.2 Location Hyphoteses\n",
    "\n",
    "1. Used cars located in periphery neighborhood should be cheaper.\n",
    "\n",
    "2. Used cars in west or northeast regions should cost more.\n",
    "\n",
    "3. Used cars located in rich cities should be expensive.\n",
    "\n",
    "4. Used cars in rich States should cost more.\n",
    "\n",
    "5. Used cars that are in urban environments should be expensive.\n",
    "\n",
    "6. Used cars that are in rural environments should cost less.\n",
    "\n",
    "7. Used cars that come from another country should cost more.\n",
    "2.1.3 Category Hyphoteses\n",
    "\n",
    "1. Used cars with less size should be cheaper.\n",
    "\n",
    "2. Used cars which come from big manufacturer should be cost more.\n",
    "\n",
    "3. Used cars with 4wd drive should be cost more.\n",
    "\n",
    "4. Used cars belongs to luxury segment should cost more.\n",
    "\n",
    "5. Used cars with electric fuel should be expensive.\n",
    "\n",
    "6. Used cars with SUV, pickup or truck type should cost more.\n",
    "2.1.4 Acessories Hyphoteses\n",
    "\n",
    "1. Used cars with automatic transmission should be cost more.\n",
    "\n",
    "2. Used cars with silver or black paint-color should be expensive.\n",
    "\n",
    "3. Used cars with high-end stereos should be expensive.\n",
    "\n",
    "4. Used cars with less Airbags should be cheaper.\n",
    "\n",
    "5. Used cars with air-condition should cost more.\n",
    "\n",
    "6. Used cars with automatic pilot should cost more.\n",
    "\n",
    "7. Used cars with supercharger kits should cost more.\n",
    "\n",
    "8. Used cars with custom rims should cost more.\n",
    "\n",
    "9. Used cars with more cylinders should be expensive.\n",
    "2.1.5 Time Hyphoteses\n",
    "\n",
    "1. Used cars with Lat/Long loacated in cost areas should cost more.\n",
    "\n",
    "2. Used cars which has lifetime longer should be cheaper.\n",
    "\n",
    "3. Used cars with less age should cost less.\n",
    "\n",
    "4. Used cars selling in summer or winter season should be expensive.\n",
    "\n",
    "5. Used cars selling in holidays should be expensive.\n",
    "2.1.6 Sales Channel Hyphoteses\n",
    "\n",
    "1. Used cars selling in physical store.\n",
    "\n",
    "2. Used cars selling in online store should be cheaper.\n",
    "\n",
    "3. Used cars selling through an owner should be cheaper.\n",
    "\n",
    "4. Used cars selling through a middleman should be expensive.\n",
    "2.2 Final List of Hyphoteses\n",
    "\n",
    "Based on some criteria, such as: information already available in the dataset and data that would be available at the beginning of the collection process.\n",
    "I created a final list of hypotheses that, in a possible second cycle, can increase when I include another item from the previously made list.\n",
    "\n",
    "1. Used cars with high Mailage should be cheaper.\n",
    "\n",
    "2. Used cars with better Appearance should be expensive.\n",
    "\n",
    "3. Used cars in west or northeast regions should cost more.\n",
    "\n",
    "4. Used cars in rich States should cost more.\n",
    "\n",
    "5. Used cars which come from big manufacturer should be cost more.\n",
    "\n",
    "6. Used cars with 4wd drive should be cost more.\n",
    "\n",
    "7. Used cars with electric fuel should be expensive.\n",
    "\n",
    "8. Used cars with SUV, pickup or truck type should cost more.\n",
    "\n",
    "9. Used cars with automatic transmission should be cost more.\n",
    "\n",
    "10. Used cars with silver or black paint-color should be expensive.\n",
    "\n",
    "11. Used cars with more cylinders should be expensive.\n",
    "\n",
    "12. Used cars with Lat/Long loacated in cost areas should cost more.\n",
    "\n",
    "13. Used cars with less age should cost less.\n"
   ]
  },
  {
   "cell_type": "code",
   "execution_count": 23,
   "id": "fc06f4ef",
   "metadata": {},
   "outputs": [],
   "source": [
    "CarsDf = CarsDf[(CarsDf['price']!=0) | (CarsDf['odometer']!=0.0)]"
   ]
  },
  {
   "cell_type": "markdown",
   "id": "6d87ae6f",
   "metadata": {},
   "source": [
    "Removing Outliers"
   ]
  },
  {
   "cell_type": "code",
   "execution_count": 24,
   "id": "c6c7fa10",
   "metadata": {},
   "outputs": [],
   "source": [
    "# As we can see above in distplots, the dataset has a lot of outliers.\n",
    "# Now, I will drop the outliers using the formula below:\n",
    "# Q1 - 1.5*IQR to inferior limit\n",
    "# Q3 + 1.5*IQR to superior limit\n",
    "\n",
    "Q1 = np.quantile(CarsDf['price'],0.25)\n",
    "Q3 = np.quantile(CarsDf['price'],0.75)\n",
    "IQR = Q3 - Q1\n",
    "\n",
    "inferior_limit = Q1 - 1.5*IQR\n",
    "superior_limit = Q3 + 1.5*IQR\n",
    "\n",
    "CarsDf = CarsDf[(CarsDf['price']>inferior_limit) & (CarsDf['price']<superior_limit)]\n",
    "CarsDf = CarsDf[(CarsDf['price']!=0) | (CarsDf['odometer']!=0)]"
   ]
  },
  {
   "cell_type": "code",
   "execution_count": 25,
   "id": "832ec736",
   "metadata": {},
   "outputs": [
    {
     "data": {
      "text/plain": [
       "<AxesSubplot:xlabel='price'>"
      ]
     },
     "execution_count": 25,
     "metadata": {},
     "output_type": "execute_result"
    },
    {
     "data": {
      "image/png": "[encoded data removed]",
      "text/plain": [
       "<Figure size 432x288 with 1 Axes>"
      ]
     },
     "metadata": {},
     "output_type": "display_data"
    }
   ],
   "source": [
    "sns.distplot(CarsDf.price, kde=False)"
   ]
  },
  {
   "cell_type": "code",
   "execution_count": 26,
   "id": "9ac8ea2f",
   "metadata": {},
   "outputs": [
    {
     "data": {
      "text/plain": [
       "Index(['year', 'model', 'condition', 'cylinders', 'fuel', 'odometer',\n",
       "       'transmission', 'drive', 'type', 'paint_color', 'state'],\n",
       "      dtype='object')"
      ]
     },
     "execution_count": 26,
     "metadata": {},
     "output_type": "execute_result"
    }
   ],
   "source": [
    "CarsDf.columns[1:]"
   ]
  },
  {
   "cell_type": "code",
   "execution_count": 27,
   "id": "7a4ddfe8",
   "metadata": {},
   "outputs": [
    {
     "data": {
      "text/html": [
       "<div>\n",
       "<style scoped>\n",
       "    .dataframe tbody tr th:only-of-type {\n",
       "        vertical-align: middle;\n",
       "    }\n",
       "\n",
       "    .dataframe tbody tr th {\n",
       "        vertical-align: top;\n",
       "    }\n",
       "\n",
       "    .dataframe thead th {\n",
       "        text-align: right;\n",
       "    }\n",
       "</style>\n",
       "<table border=\"1\" class=\"dataframe\">\n",
       "  <thead>\n",
       "    <tr style=\"text-align: right;\">\n",
       "      <th></th>\n",
       "      <th>price</th>\n",
       "      <th>year</th>\n",
       "      <th>model</th>\n",
       "      <th>condition</th>\n",
       "      <th>cylinders</th>\n",
       "      <th>fuel</th>\n",
       "      <th>odometer</th>\n",
       "      <th>transmission</th>\n",
       "      <th>drive</th>\n",
       "      <th>type</th>\n",
       "      <th>paint_color</th>\n",
       "      <th>state</th>\n",
       "    </tr>\n",
       "  </thead>\n",
       "  <tbody>\n",
       "    <tr>\n",
       "      <th>0</th>\n",
       "      <td>6000</td>\n",
       "      <td>2017</td>\n",
       "      <td>f-150</td>\n",
       "      <td>good</td>\n",
       "      <td>6 cylinders</td>\n",
       "      <td>gas</td>\n",
       "      <td>85548</td>\n",
       "      <td>automatic</td>\n",
       "      <td>4wd</td>\n",
       "      <td>sedan</td>\n",
       "      <td>white</td>\n",
       "      <td>az</td>\n",
       "    </tr>\n",
       "    <tr>\n",
       "      <th>1</th>\n",
       "      <td>11900</td>\n",
       "      <td>2017</td>\n",
       "      <td>f-150</td>\n",
       "      <td>good</td>\n",
       "      <td>6 cylinders</td>\n",
       "      <td>gas</td>\n",
       "      <td>85548</td>\n",
       "      <td>automatic</td>\n",
       "      <td>4wd</td>\n",
       "      <td>sedan</td>\n",
       "      <td>white</td>\n",
       "      <td>ar</td>\n",
       "    </tr>\n",
       "    <tr>\n",
       "      <th>2</th>\n",
       "      <td>21000</td>\n",
       "      <td>2017</td>\n",
       "      <td>f-150</td>\n",
       "      <td>good</td>\n",
       "      <td>6 cylinders</td>\n",
       "      <td>gas</td>\n",
       "      <td>85548</td>\n",
       "      <td>automatic</td>\n",
       "      <td>4wd</td>\n",
       "      <td>sedan</td>\n",
       "      <td>white</td>\n",
       "      <td>fl</td>\n",
       "    </tr>\n",
       "    <tr>\n",
       "      <th>3</th>\n",
       "      <td>1500</td>\n",
       "      <td>2017</td>\n",
       "      <td>f-150</td>\n",
       "      <td>good</td>\n",
       "      <td>6 cylinders</td>\n",
       "      <td>gas</td>\n",
       "      <td>85548</td>\n",
       "      <td>automatic</td>\n",
       "      <td>4wd</td>\n",
       "      <td>sedan</td>\n",
       "      <td>white</td>\n",
       "      <td>ma</td>\n",
       "    </tr>\n",
       "    <tr>\n",
       "      <th>4</th>\n",
       "      <td>4900</td>\n",
       "      <td>2017</td>\n",
       "      <td>f-150</td>\n",
       "      <td>good</td>\n",
       "      <td>6 cylinders</td>\n",
       "      <td>gas</td>\n",
       "      <td>85548</td>\n",
       "      <td>automatic</td>\n",
       "      <td>4wd</td>\n",
       "      <td>sedan</td>\n",
       "      <td>white</td>\n",
       "      <td>nc</td>\n",
       "    </tr>\n",
       "  </tbody>\n",
       "</table>\n",
       "</div>"
      ],
      "text/plain": [
       "   price  year  model condition    cylinders fuel  odometer transmission  \\\n",
       "0   6000  2017  f-150      good  6 cylinders  gas     85548    automatic   \n",
       "1  11900  2017  f-150      good  6 cylinders  gas     85548    automatic   \n",
       "2  21000  2017  f-150      good  6 cylinders  gas     85548    automatic   \n",
       "3   1500  2017  f-150      good  6 cylinders  gas     85548    automatic   \n",
       "4   4900  2017  f-150      good  6 cylinders  gas     85548    automatic   \n",
       "\n",
       "  drive   type paint_color state  \n",
       "0   4wd  sedan       white    az  \n",
       "1   4wd  sedan       white    ar  \n",
       "2   4wd  sedan       white    fl  \n",
       "3   4wd  sedan       white    ma  \n",
       "4   4wd  sedan       white    nc  "
      ]
     },
     "execution_count": 27,
     "metadata": {},
     "output_type": "execute_result"
    }
   ],
   "source": [
    "CarsDf.head()"
   ]
  },
  {
   "cell_type": "code",
   "execution_count": 28,
   "id": "724aede1",
   "metadata": {},
   "outputs": [],
   "source": [
    "from sklearn.preprocessing import LabelEncoder"
   ]
  },
  {
   "cell_type": "code",
   "execution_count": 29,
   "id": "aac561ba",
   "metadata": {},
   "outputs": [],
   "source": [
    "l = LabelEncoder()"
   ]
  },
  {
   "cell_type": "code",
   "execution_count": 30,
   "id": "9c326c71",
   "metadata": {},
   "outputs": [],
   "source": [
    "CarsDf = CarsDf.apply(l.fit_transform)"
   ]
  },
  {
   "cell_type": "code",
   "execution_count": 31,
   "id": "def742d6",
   "metadata": {},
   "outputs": [
    {
     "data": {
      "text/html": [
       "<div>\n",
       "<style scoped>\n",
       "    .dataframe tbody tr th:only-of-type {\n",
       "        vertical-align: middle;\n",
       "    }\n",
       "\n",
       "    .dataframe tbody tr th {\n",
       "        vertical-align: top;\n",
       "    }\n",
       "\n",
       "    .dataframe thead th {\n",
       "        text-align: right;\n",
       "    }\n",
       "</style>\n",
       "<table border=\"1\" class=\"dataframe\">\n",
       "  <thead>\n",
       "    <tr style=\"text-align: right;\">\n",
       "      <th></th>\n",
       "      <th>price</th>\n",
       "      <th>year</th>\n",
       "      <th>model</th>\n",
       "      <th>condition</th>\n",
       "      <th>cylinders</th>\n",
       "      <th>fuel</th>\n",
       "      <th>odometer</th>\n",
       "      <th>transmission</th>\n",
       "      <th>drive</th>\n",
       "      <th>type</th>\n",
       "      <th>paint_color</th>\n",
       "      <th>state</th>\n",
       "    </tr>\n",
       "  </thead>\n",
       "  <tbody>\n",
       "    <tr>\n",
       "      <th>price</th>\n",
       "      <td>1.000000</td>\n",
       "      <td>0.313450</td>\n",
       "      <td>0.030646</td>\n",
       "      <td>0.123550</td>\n",
       "      <td>0.222532</td>\n",
       "      <td>0.022129</td>\n",
       "      <td>-0.478372</td>\n",
       "      <td>0.350430</td>\n",
       "      <td>-0.055850</td>\n",
       "      <td>-0.012733</td>\n",
       "      <td>-0.034500</td>\n",
       "      <td>-0.000071</td>\n",
       "    </tr>\n",
       "    <tr>\n",
       "      <th>year</th>\n",
       "      <td>0.313450</td>\n",
       "      <td>1.000000</td>\n",
       "      <td>0.056364</td>\n",
       "      <td>0.088339</td>\n",
       "      <td>-0.085676</td>\n",
       "      <td>0.108410</td>\n",
       "      <td>-0.318745</td>\n",
       "      <td>0.134975</td>\n",
       "      <td>-0.118787</td>\n",
       "      <td>-0.033839</td>\n",
       "      <td>-0.010725</td>\n",
       "      <td>0.009895</td>\n",
       "    </tr>\n",
       "    <tr>\n",
       "      <th>model</th>\n",
       "      <td>0.030646</td>\n",
       "      <td>0.056364</td>\n",
       "      <td>1.000000</td>\n",
       "      <td>-0.003478</td>\n",
       "      <td>0.042872</td>\n",
       "      <td>0.075317</td>\n",
       "      <td>0.000546</td>\n",
       "      <td>0.014020</td>\n",
       "      <td>-0.094817</td>\n",
       "      <td>-0.106425</td>\n",
       "      <td>-0.002625</td>\n",
       "      <td>0.003269</td>\n",
       "    </tr>\n",
       "    <tr>\n",
       "      <th>condition</th>\n",
       "      <td>0.123550</td>\n",
       "      <td>0.088339</td>\n",
       "      <td>-0.003478</td>\n",
       "      <td>1.000000</td>\n",
       "      <td>0.085878</td>\n",
       "      <td>0.078771</td>\n",
       "      <td>-0.147967</td>\n",
       "      <td>0.162346</td>\n",
       "      <td>-0.047806</td>\n",
       "      <td>0.064126</td>\n",
       "      <td>0.026017</td>\n",
       "      <td>0.037943</td>\n",
       "    </tr>\n",
       "    <tr>\n",
       "      <th>cylinders</th>\n",
       "      <td>0.222532</td>\n",
       "      <td>-0.085676</td>\n",
       "      <td>0.042872</td>\n",
       "      <td>0.085878</td>\n",
       "      <td>1.000000</td>\n",
       "      <td>-0.030950</td>\n",
       "      <td>-0.006519</td>\n",
       "      <td>0.102328</td>\n",
       "      <td>-0.070320</td>\n",
       "      <td>0.059458</td>\n",
       "      <td>0.049343</td>\n",
       "      <td>0.026361</td>\n",
       "    </tr>\n",
       "    <tr>\n",
       "      <th>fuel</th>\n",
       "      <td>0.022129</td>\n",
       "      <td>0.108410</td>\n",
       "      <td>0.075317</td>\n",
       "      <td>0.078771</td>\n",
       "      <td>-0.030950</td>\n",
       "      <td>1.000000</td>\n",
       "      <td>-0.210385</td>\n",
       "      <td>0.270284</td>\n",
       "      <td>0.018880</td>\n",
       "      <td>-0.097030</td>\n",
       "      <td>-0.064609</td>\n",
       "      <td>-0.027140</td>\n",
       "    </tr>\n",
       "    <tr>\n",
       "      <th>odometer</th>\n",
       "      <td>-0.478372</td>\n",
       "      <td>-0.318745</td>\n",
       "      <td>0.000546</td>\n",
       "      <td>-0.147967</td>\n",
       "      <td>-0.006519</td>\n",
       "      <td>-0.210385</td>\n",
       "      <td>1.000000</td>\n",
       "      <td>-0.396197</td>\n",
       "      <td>-0.058088</td>\n",
       "      <td>0.043354</td>\n",
       "      <td>0.030589</td>\n",
       "      <td>0.011886</td>\n",
       "    </tr>\n",
       "    <tr>\n",
       "      <th>transmission</th>\n",
       "      <td>0.350430</td>\n",
       "      <td>0.134975</td>\n",
       "      <td>0.014020</td>\n",
       "      <td>0.162346</td>\n",
       "      <td>0.102328</td>\n",
       "      <td>0.270284</td>\n",
       "      <td>-0.396197</td>\n",
       "      <td>1.000000</td>\n",
       "      <td>0.043045</td>\n",
       "      <td>-0.024494</td>\n",
       "      <td>-0.052859</td>\n",
       "      <td>-0.008354</td>\n",
       "    </tr>\n",
       "    <tr>\n",
       "      <th>drive</th>\n",
       "      <td>-0.055850</td>\n",
       "      <td>-0.118787</td>\n",
       "      <td>-0.094817</td>\n",
       "      <td>-0.047806</td>\n",
       "      <td>-0.070320</td>\n",
       "      <td>0.018880</td>\n",
       "      <td>-0.058088</td>\n",
       "      <td>0.043045</td>\n",
       "      <td>1.000000</td>\n",
       "      <td>0.023797</td>\n",
       "      <td>-0.079137</td>\n",
       "      <td>-0.044530</td>\n",
       "    </tr>\n",
       "    <tr>\n",
       "      <th>type</th>\n",
       "      <td>-0.012733</td>\n",
       "      <td>-0.033839</td>\n",
       "      <td>-0.106425</td>\n",
       "      <td>0.064126</td>\n",
       "      <td>0.059458</td>\n",
       "      <td>-0.097030</td>\n",
       "      <td>0.043354</td>\n",
       "      <td>-0.024494</td>\n",
       "      <td>0.023797</td>\n",
       "      <td>1.000000</td>\n",
       "      <td>0.125453</td>\n",
       "      <td>-0.004665</td>\n",
       "    </tr>\n",
       "    <tr>\n",
       "      <th>paint_color</th>\n",
       "      <td>-0.034500</td>\n",
       "      <td>-0.010725</td>\n",
       "      <td>-0.002625</td>\n",
       "      <td>0.026017</td>\n",
       "      <td>0.049343</td>\n",
       "      <td>-0.064609</td>\n",
       "      <td>0.030589</td>\n",
       "      <td>-0.052859</td>\n",
       "      <td>-0.079137</td>\n",
       "      <td>0.125453</td>\n",
       "      <td>1.000000</td>\n",
       "      <td>-0.011693</td>\n",
       "    </tr>\n",
       "    <tr>\n",
       "      <th>state</th>\n",
       "      <td>-0.000071</td>\n",
       "      <td>0.009895</td>\n",
       "      <td>0.003269</td>\n",
       "      <td>0.037943</td>\n",
       "      <td>0.026361</td>\n",
       "      <td>-0.027140</td>\n",
       "      <td>0.011886</td>\n",
       "      <td>-0.008354</td>\n",
       "      <td>-0.044530</td>\n",
       "      <td>-0.004665</td>\n",
       "      <td>-0.011693</td>\n",
       "      <td>1.000000</td>\n",
       "    </tr>\n",
       "  </tbody>\n",
       "</table>\n",
       "</div>"
      ],
      "text/plain": [
       "                 price      year     model  condition  cylinders      fuel  \\\n",
       "price         1.000000  0.313450  0.030646   0.123550   0.222532  0.022129   \n",
       "year          0.313450  1.000000  0.056364   0.088339  -0.085676  0.108410   \n",
       "model         0.030646  0.056364  1.000000  -0.003478   0.042872  0.075317   \n",
       "condition     0.123550  0.088339 -0.003478   1.000000   0.085878  0.078771   \n",
       "cylinders     0.222532 -0.085676  0.042872   0.085878   1.000000 -0.030950   \n",
       "fuel          0.022129  0.108410  0.075317   0.078771  -0.030950  1.000000   \n",
       "odometer     -0.478372 -0.318745  0.000546  -0.147967  -0.006519 -0.210385   \n",
       "transmission  0.350430  0.134975  0.014020   0.162346   0.102328  0.270284   \n",
       "drive        -0.055850 -0.118787 -0.094817  -0.047806  -0.070320  0.018880   \n",
       "type         -0.012733 -0.033839 -0.106425   0.064126   0.059458 -0.097030   \n",
       "paint_color  -0.034500 -0.010725 -0.002625   0.026017   0.049343 -0.064609   \n",
       "state        -0.000071  0.009895  0.003269   0.037943   0.026361 -0.027140   \n",
       "\n",
       "              odometer  transmission     drive      type  paint_color  \\\n",
       "price        -0.478372      0.350430 -0.055850 -0.012733    -0.034500   \n",
       "year         -0.318745      0.134975 -0.118787 -0.033839    -0.010725   \n",
       "model         0.000546      0.014020 -0.094817 -0.106425    -0.002625   \n",
       "condition    -0.147967      0.162346 -0.047806  0.064126     0.026017   \n",
       "cylinders    -0.006519      0.102328 -0.070320  0.059458     0.049343   \n",
       "fuel         -0.210385      0.270284  0.018880 -0.097030    -0.064609   \n",
       "odometer      1.000000     -0.396197 -0.058088  0.043354     0.030589   \n",
       "transmission -0.396197      1.000000  0.043045 -0.024494    -0.052859   \n",
       "drive        -0.058088      0.043045  1.000000  0.023797    -0.079137   \n",
       "type          0.043354     -0.024494  0.023797  1.000000     0.125453   \n",
       "paint_color   0.030589     -0.052859 -0.079137  0.125453     1.000000   \n",
       "state         0.011886     -0.008354 -0.044530 -0.004665    -0.011693   \n",
       "\n",
       "                 state  \n",
       "price        -0.000071  \n",
       "year          0.009895  \n",
       "model         0.003269  \n",
       "condition     0.037943  \n",
       "cylinders     0.026361  \n",
       "fuel         -0.027140  \n",
       "odometer      0.011886  \n",
       "transmission -0.008354  \n",
       "drive        -0.044530  \n",
       "type         -0.004665  \n",
       "paint_color  -0.011693  \n",
       "state         1.000000  "
      ]
     },
     "execution_count": 31,
     "metadata": {},
     "output_type": "execute_result"
    }
   ],
   "source": [
    "CarsDf.corr()"
   ]
  },
  {
   "cell_type": "code",
   "execution_count": 32,
   "id": "39183448",
   "metadata": {},
   "outputs": [],
   "source": [
    "from sklearn.preprocessing import MinMaxScaler"
   ]
  },
  {
   "cell_type": "code",
   "execution_count": 33,
   "id": "2b5f65e2",
   "metadata": {},
   "outputs": [],
   "source": [
    "m = MinMaxScaler()\n",
    "CarsDf = pd.DataFrame(m.fit_transform(CarsDf),columns=['price', 'year', 'model', 'condition', 'cylinders', 'fuel', 'odometer',\n",
    "       'transmission', 'drive', 'type', 'paint_color', 'state'])"
   ]
  },
  {
   "cell_type": "code",
   "execution_count": 34,
   "id": "dec66905",
   "metadata": {},
   "outputs": [
    {
     "data": {
      "text/html": [
       "<div>\n",
       "<style scoped>\n",
       "    .dataframe tbody tr th:only-of-type {\n",
       "        vertical-align: middle;\n",
       "    }\n",
       "\n",
       "    .dataframe tbody tr th {\n",
       "        vertical-align: top;\n",
       "    }\n",
       "\n",
       "    .dataframe thead th {\n",
       "        text-align: right;\n",
       "    }\n",
       "</style>\n",
       "<table border=\"1\" class=\"dataframe\">\n",
       "  <thead>\n",
       "    <tr style=\"text-align: right;\">\n",
       "      <th></th>\n",
       "      <th>price</th>\n",
       "      <th>year</th>\n",
       "      <th>model</th>\n",
       "      <th>condition</th>\n",
       "      <th>cylinders</th>\n",
       "      <th>fuel</th>\n",
       "      <th>odometer</th>\n",
       "      <th>transmission</th>\n",
       "      <th>drive</th>\n",
       "      <th>type</th>\n",
       "      <th>paint_color</th>\n",
       "      <th>state</th>\n",
       "    </tr>\n",
       "  </thead>\n",
       "  <tbody>\n",
       "    <tr>\n",
       "      <th>0</th>\n",
       "      <td>0.128235</td>\n",
       "      <td>0.955357</td>\n",
       "      <td>0.480325</td>\n",
       "      <td>0.4</td>\n",
       "      <td>0.714286</td>\n",
       "      <td>0.5</td>\n",
       "      <td>0.449376</td>\n",
       "      <td>0.0</td>\n",
       "      <td>0.0</td>\n",
       "      <td>0.75</td>\n",
       "      <td>0.909091</td>\n",
       "      <td>0.06</td>\n",
       "    </tr>\n",
       "    <tr>\n",
       "      <th>1</th>\n",
       "      <td>0.274810</td>\n",
       "      <td>0.955357</td>\n",
       "      <td>0.480325</td>\n",
       "      <td>0.4</td>\n",
       "      <td>0.714286</td>\n",
       "      <td>0.5</td>\n",
       "      <td>0.449376</td>\n",
       "      <td>0.0</td>\n",
       "      <td>0.0</td>\n",
       "      <td>0.75</td>\n",
       "      <td>0.909091</td>\n",
       "      <td>0.04</td>\n",
       "    </tr>\n",
       "    <tr>\n",
       "      <th>2</th>\n",
       "      <td>0.539723</td>\n",
       "      <td>0.955357</td>\n",
       "      <td>0.480325</td>\n",
       "      <td>0.4</td>\n",
       "      <td>0.714286</td>\n",
       "      <td>0.5</td>\n",
       "      <td>0.449376</td>\n",
       "      <td>0.0</td>\n",
       "      <td>0.0</td>\n",
       "      <td>0.75</td>\n",
       "      <td>0.909091</td>\n",
       "      <td>0.18</td>\n",
       "    </tr>\n",
       "    <tr>\n",
       "      <th>3</th>\n",
       "      <td>0.062491</td>\n",
       "      <td>0.955357</td>\n",
       "      <td>0.480325</td>\n",
       "      <td>0.4</td>\n",
       "      <td>0.714286</td>\n",
       "      <td>0.5</td>\n",
       "      <td>0.449376</td>\n",
       "      <td>0.0</td>\n",
       "      <td>0.0</td>\n",
       "      <td>0.75</td>\n",
       "      <td>0.909091</td>\n",
       "      <td>0.38</td>\n",
       "    </tr>\n",
       "    <tr>\n",
       "      <th>4</th>\n",
       "      <td>0.105190</td>\n",
       "      <td>0.955357</td>\n",
       "      <td>0.480325</td>\n",
       "      <td>0.4</td>\n",
       "      <td>0.714286</td>\n",
       "      <td>0.5</td>\n",
       "      <td>0.449376</td>\n",
       "      <td>0.0</td>\n",
       "      <td>0.0</td>\n",
       "      <td>0.75</td>\n",
       "      <td>0.909091</td>\n",
       "      <td>0.54</td>\n",
       "    </tr>\n",
       "  </tbody>\n",
       "</table>\n",
       "</div>"
      ],
      "text/plain": [
       "      price      year     model  condition  cylinders  fuel  odometer  \\\n",
       "0  0.128235  0.955357  0.480325        0.4   0.714286   0.5  0.449376   \n",
       "1  0.274810  0.955357  0.480325        0.4   0.714286   0.5  0.449376   \n",
       "2  0.539723  0.955357  0.480325        0.4   0.714286   0.5  0.449376   \n",
       "3  0.062491  0.955357  0.480325        0.4   0.714286   0.5  0.449376   \n",
       "4  0.105190  0.955357  0.480325        0.4   0.714286   0.5  0.449376   \n",
       "\n",
       "   transmission  drive  type  paint_color  state  \n",
       "0           0.0    0.0  0.75     0.909091   0.06  \n",
       "1           0.0    0.0  0.75     0.909091   0.04  \n",
       "2           0.0    0.0  0.75     0.909091   0.18  \n",
       "3           0.0    0.0  0.75     0.909091   0.38  \n",
       "4           0.0    0.0  0.75     0.909091   0.54  "
      ]
     },
     "execution_count": 34,
     "metadata": {},
     "output_type": "execute_result"
    }
   ],
   "source": [
    "CarsDf.head()"
   ]
  },
  {
   "cell_type": "code",
   "execution_count": 35,
   "id": "4ea540c2",
   "metadata": {},
   "outputs": [
    {
     "data": {
      "text/html": [
       "<div>\n",
       "<style scoped>\n",
       "    .dataframe tbody tr th:only-of-type {\n",
       "        vertical-align: middle;\n",
       "    }\n",
       "\n",
       "    .dataframe tbody tr th {\n",
       "        vertical-align: top;\n",
       "    }\n",
       "\n",
       "    .dataframe thead th {\n",
       "        text-align: right;\n",
       "    }\n",
       "</style>\n",
       "<table border=\"1\" class=\"dataframe\">\n",
       "  <thead>\n",
       "    <tr style=\"text-align: right;\">\n",
       "      <th></th>\n",
       "      <th>price</th>\n",
       "      <th>year</th>\n",
       "      <th>model</th>\n",
       "      <th>condition</th>\n",
       "      <th>cylinders</th>\n",
       "      <th>fuel</th>\n",
       "      <th>odometer</th>\n",
       "      <th>transmission</th>\n",
       "      <th>drive</th>\n",
       "      <th>type</th>\n",
       "      <th>paint_color</th>\n",
       "      <th>state</th>\n",
       "    </tr>\n",
       "  </thead>\n",
       "  <tbody>\n",
       "    <tr>\n",
       "      <th>price</th>\n",
       "      <td>1.000000</td>\n",
       "      <td>0.313450</td>\n",
       "      <td>0.030646</td>\n",
       "      <td>0.123550</td>\n",
       "      <td>0.222532</td>\n",
       "      <td>0.022129</td>\n",
       "      <td>-0.478372</td>\n",
       "      <td>0.350430</td>\n",
       "      <td>-0.055850</td>\n",
       "      <td>-0.012733</td>\n",
       "      <td>-0.034500</td>\n",
       "      <td>-0.000071</td>\n",
       "    </tr>\n",
       "    <tr>\n",
       "      <th>year</th>\n",
       "      <td>0.313450</td>\n",
       "      <td>1.000000</td>\n",
       "      <td>0.056364</td>\n",
       "      <td>0.088339</td>\n",
       "      <td>-0.085676</td>\n",
       "      <td>0.108410</td>\n",
       "      <td>-0.318745</td>\n",
       "      <td>0.134975</td>\n",
       "      <td>-0.118787</td>\n",
       "      <td>-0.033839</td>\n",
       "      <td>-0.010725</td>\n",
       "      <td>0.009895</td>\n",
       "    </tr>\n",
       "    <tr>\n",
       "      <th>model</th>\n",
       "      <td>0.030646</td>\n",
       "      <td>0.056364</td>\n",
       "      <td>1.000000</td>\n",
       "      <td>-0.003478</td>\n",
       "      <td>0.042872</td>\n",
       "      <td>0.075317</td>\n",
       "      <td>0.000546</td>\n",
       "      <td>0.014020</td>\n",
       "      <td>-0.094817</td>\n",
       "      <td>-0.106425</td>\n",
       "      <td>-0.002625</td>\n",
       "      <td>0.003269</td>\n",
       "    </tr>\n",
       "    <tr>\n",
       "      <th>condition</th>\n",
       "      <td>0.123550</td>\n",
       "      <td>0.088339</td>\n",
       "      <td>-0.003478</td>\n",
       "      <td>1.000000</td>\n",
       "      <td>0.085878</td>\n",
       "      <td>0.078771</td>\n",
       "      <td>-0.147967</td>\n",
       "      <td>0.162346</td>\n",
       "      <td>-0.047806</td>\n",
       "      <td>0.064126</td>\n",
       "      <td>0.026017</td>\n",
       "      <td>0.037943</td>\n",
       "    </tr>\n",
       "    <tr>\n",
       "      <th>cylinders</th>\n",
       "      <td>0.222532</td>\n",
       "      <td>-0.085676</td>\n",
       "      <td>0.042872</td>\n",
       "      <td>0.085878</td>\n",
       "      <td>1.000000</td>\n",
       "      <td>-0.030950</td>\n",
       "      <td>-0.006519</td>\n",
       "      <td>0.102328</td>\n",
       "      <td>-0.070320</td>\n",
       "      <td>0.059458</td>\n",
       "      <td>0.049343</td>\n",
       "      <td>0.026361</td>\n",
       "    </tr>\n",
       "    <tr>\n",
       "      <th>fuel</th>\n",
       "      <td>0.022129</td>\n",
       "      <td>0.108410</td>\n",
       "      <td>0.075317</td>\n",
       "      <td>0.078771</td>\n",
       "      <td>-0.030950</td>\n",
       "      <td>1.000000</td>\n",
       "      <td>-0.210385</td>\n",
       "      <td>0.270284</td>\n",
       "      <td>0.018880</td>\n",
       "      <td>-0.097030</td>\n",
       "      <td>-0.064609</td>\n",
       "      <td>-0.027140</td>\n",
       "    </tr>\n",
       "    <tr>\n",
       "      <th>odometer</th>\n",
       "      <td>-0.478372</td>\n",
       "      <td>-0.318745</td>\n",
       "      <td>0.000546</td>\n",
       "      <td>-0.147967</td>\n",
       "      <td>-0.006519</td>\n",
       "      <td>-0.210385</td>\n",
       "      <td>1.000000</td>\n",
       "      <td>-0.396197</td>\n",
       "      <td>-0.058088</td>\n",
       "      <td>0.043354</td>\n",
       "      <td>0.030589</td>\n",
       "      <td>0.011886</td>\n",
       "    </tr>\n",
       "    <tr>\n",
       "      <th>transmission</th>\n",
       "      <td>0.350430</td>\n",
       "      <td>0.134975</td>\n",
       "      <td>0.014020</td>\n",
       "      <td>0.162346</td>\n",
       "      <td>0.102328</td>\n",
       "      <td>0.270284</td>\n",
       "      <td>-0.396197</td>\n",
       "      <td>1.000000</td>\n",
       "      <td>0.043045</td>\n",
       "      <td>-0.024494</td>\n",
       "      <td>-0.052859</td>\n",
       "      <td>-0.008354</td>\n",
       "    </tr>\n",
       "    <tr>\n",
       "      <th>drive</th>\n",
       "      <td>-0.055850</td>\n",
       "      <td>-0.118787</td>\n",
       "      <td>-0.094817</td>\n",
       "      <td>-0.047806</td>\n",
       "      <td>-0.070320</td>\n",
       "      <td>0.018880</td>\n",
       "      <td>-0.058088</td>\n",
       "      <td>0.043045</td>\n",
       "      <td>1.000000</td>\n",
       "      <td>0.023797</td>\n",
       "      <td>-0.079137</td>\n",
       "      <td>-0.044530</td>\n",
       "    </tr>\n",
       "    <tr>\n",
       "      <th>type</th>\n",
       "      <td>-0.012733</td>\n",
       "      <td>-0.033839</td>\n",
       "      <td>-0.106425</td>\n",
       "      <td>0.064126</td>\n",
       "      <td>0.059458</td>\n",
       "      <td>-0.097030</td>\n",
       "      <td>0.043354</td>\n",
       "      <td>-0.024494</td>\n",
       "      <td>0.023797</td>\n",
       "      <td>1.000000</td>\n",
       "      <td>0.125453</td>\n",
       "      <td>-0.004665</td>\n",
       "    </tr>\n",
       "    <tr>\n",
       "      <th>paint_color</th>\n",
       "      <td>-0.034500</td>\n",
       "      <td>-0.010725</td>\n",
       "      <td>-0.002625</td>\n",
       "      <td>0.026017</td>\n",
       "      <td>0.049343</td>\n",
       "      <td>-0.064609</td>\n",
       "      <td>0.030589</td>\n",
       "      <td>-0.052859</td>\n",
       "      <td>-0.079137</td>\n",
       "      <td>0.125453</td>\n",
       "      <td>1.000000</td>\n",
       "      <td>-0.011693</td>\n",
       "    </tr>\n",
       "    <tr>\n",
       "      <th>state</th>\n",
       "      <td>-0.000071</td>\n",
       "      <td>0.009895</td>\n",
       "      <td>0.003269</td>\n",
       "      <td>0.037943</td>\n",
       "      <td>0.026361</td>\n",
       "      <td>-0.027140</td>\n",
       "      <td>0.011886</td>\n",
       "      <td>-0.008354</td>\n",
       "      <td>-0.044530</td>\n",
       "      <td>-0.004665</td>\n",
       "      <td>-0.011693</td>\n",
       "      <td>1.000000</td>\n",
       "    </tr>\n",
       "  </tbody>\n",
       "</table>\n",
       "</div>"
      ],
      "text/plain": [
       "                 price      year     model  condition  cylinders      fuel  \\\n",
       "price         1.000000  0.313450  0.030646   0.123550   0.222532  0.022129   \n",
       "year          0.313450  1.000000  0.056364   0.088339  -0.085676  0.108410   \n",
       "model         0.030646  0.056364  1.000000  -0.003478   0.042872  0.075317   \n",
       "condition     0.123550  0.088339 -0.003478   1.000000   0.085878  0.078771   \n",
       "cylinders     0.222532 -0.085676  0.042872   0.085878   1.000000 -0.030950   \n",
       "fuel          0.022129  0.108410  0.075317   0.078771  -0.030950  1.000000   \n",
       "odometer     -0.478372 -0.318745  0.000546  -0.147967  -0.006519 -0.210385   \n",
       "transmission  0.350430  0.134975  0.014020   0.162346   0.102328  0.270284   \n",
       "drive        -0.055850 -0.118787 -0.094817  -0.047806  -0.070320  0.018880   \n",
       "type         -0.012733 -0.033839 -0.106425   0.064126   0.059458 -0.097030   \n",
       "paint_color  -0.034500 -0.010725 -0.002625   0.026017   0.049343 -0.064609   \n",
       "state        -0.000071  0.009895  0.003269   0.037943   0.026361 -0.027140   \n",
       "\n",
       "              odometer  transmission     drive      type  paint_color  \\\n",
       "price        -0.478372      0.350430 -0.055850 -0.012733    -0.034500   \n",
       "year         -0.318745      0.134975 -0.118787 -0.033839    -0.010725   \n",
       "model         0.000546      0.014020 -0.094817 -0.106425    -0.002625   \n",
       "condition    -0.147967      0.162346 -0.047806  0.064126     0.026017   \n",
       "cylinders    -0.006519      0.102328 -0.070320  0.059458     0.049343   \n",
       "fuel         -0.210385      0.270284  0.018880 -0.097030    -0.064609   \n",
       "odometer      1.000000     -0.396197 -0.058088  0.043354     0.030589   \n",
       "transmission -0.396197      1.000000  0.043045 -0.024494    -0.052859   \n",
       "drive        -0.058088      0.043045  1.000000  0.023797    -0.079137   \n",
       "type          0.043354     -0.024494  0.023797  1.000000     0.125453   \n",
       "paint_color   0.030589     -0.052859 -0.079137  0.125453     1.000000   \n",
       "state         0.011886     -0.008354 -0.044530 -0.004665    -0.011693   \n",
       "\n",
       "                 state  \n",
       "price        -0.000071  \n",
       "year          0.009895  \n",
       "model         0.003269  \n",
       "condition     0.037943  \n",
       "cylinders     0.026361  \n",
       "fuel         -0.027140  \n",
       "odometer      0.011886  \n",
       "transmission -0.008354  \n",
       "drive        -0.044530  \n",
       "type         -0.004665  \n",
       "paint_color  -0.011693  \n",
       "state         1.000000  "
      ]
     },
     "execution_count": 35,
     "metadata": {},
     "output_type": "execute_result"
    }
   ],
   "source": [
    "CarsDf.corr()"
   ]
  },
  {
   "cell_type": "code",
   "execution_count": 36,
   "id": "6f72ae8f",
   "metadata": {},
   "outputs": [],
   "source": [
    "CarsDf_y = CarsDf['price']\n",
    "CarsDf_x = CarsDf.drop(columns='price')"
   ]
  },
  {
   "cell_type": "code",
   "execution_count": 37,
   "id": "86948884",
   "metadata": {},
   "outputs": [],
   "source": [
    "from sklearn.model_selection import train_test_split\n",
    "# Create training and testing vars\n",
    "training_set, test_set, class_set, test_class_set = train_test_split(CarsDf_x, CarsDf_y, test_size=0.2)\n"
   ]
  },
  {
   "cell_type": "code",
   "execution_count": 38,
   "id": "dbe7bd32",
   "metadata": {},
   "outputs": [],
   "source": [
    "class_set = class_set.values.ravel()\n",
    "test_class_set = test_class_set.values.ravel()"
   ]
  },
  {
   "cell_type": "markdown",
   "id": "2b9209a4",
   "metadata": {},
   "source": [
    "## Using Random forest regressor to find feature importance"
   ]
  },
  {
   "cell_type": "code",
   "execution_count": 39,
   "id": "617f950a",
   "metadata": {},
   "outputs": [],
   "source": [
    "from sklearn.ensemble import RandomForestRegressor\n",
    "from sklearn.model_selection import GridSearchCV"
   ]
  },
  {
   "cell_type": "code",
   "execution_count": 40,
   "id": "b3ab7e62",
   "metadata": {},
   "outputs": [],
   "source": [
    "fit_rf = RandomForestRegressor(random_state=40)"
   ]
  },
  {
   "cell_type": "markdown",
   "id": "458fb1b2",
   "metadata": {},
   "source": [
    "### Hyper_Parameter Optimization Using GridSearchCV"
   ]
  },
  {
   "cell_type": "code",
   "execution_count": 41,
   "id": "66dfe9c2",
   "metadata": {},
   "outputs": [],
   "source": [
    "# import time\n",
    "# np.random.seed(40)\n",
    "# start = time.time()\n",
    "\n",
    "# param_dist = {'max_depth':[2,3,4,5],\n",
    "#              'bootstrap':[True,False],\n",
    "#              'max_features':['auto','sqrt','log2',None],\n",
    "#              'criterion':[\"squared_error\", \"absolute_error\", \"poisson\"]}\n",
    "\n",
    "# cv_rf = GridSearchCV(fit_rf,cv=10,param_grid=param_dist,n_jobs=3)\n",
    "\n",
    "# cv_rf.fit(training_set,class_set)\n",
    "# print('Best Parameters using Grid search: \\n',cv_rf.best_params_)\n",
    "# end = time.time()\n",
    "# print('Time taken in grid search: %0.2f'%(end-start))"
   ]
  },
  {
   "cell_type": "code",
   "execution_count": 42,
   "id": "eaabeb9c",
   "metadata": {},
   "outputs": [
    {
     "data": {
      "text/html": [
       "<style>#sk-container-id-1 {color: black;background-color: white;}#sk-container-id-1 pre{padding: 0;}#sk-container-id-1 div.sk-toggleable {background-color: white;}#sk-container-id-1 label.sk-toggleable__label {cursor: pointer;display: block;width: 100%;margin-bottom: 0;padding: 0.3em;box-sizing: border-box;text-align: center;}#sk-container-id-1 label.sk-toggleable__label-arrow:before {content: \"▸\";float: left;margin-right: 0.25em;color: #696969;}#sk-container-id-1 label.sk-toggleable__label-arrow:hover:before {color: black;}#sk-container-id-1 div.sk-estimator:hover label.sk-toggleable__label-arrow:before {color: black;}#sk-container-id-1 div.sk-toggleable__content {max-height: 0;max-width: 0;overflow: hidden;text-align: left;background-color: #f0f8ff;}#sk-container-id-1 div.sk-toggleable__content pre {margin: 0.2em;color: black;border-radius: 0.25em;background-color: #f0f8ff;}#sk-container-id-1 input.sk-toggleable__control:checked~div.sk-toggleable__content {max-height: 200px;max-width: 100%;overflow: auto;}#sk-container-id-1 input.sk-toggleable__control:checked~label.sk-toggleable__label-arrow:before {content: \"▾\";}#sk-container-id-1 div.sk-estimator input.sk-toggleable__control:checked~label.sk-toggleable__label {background-color: #d4ebff;}#sk-container-id-1 div.sk-label input.sk-toggleable__control:checked~label.sk-toggleable__label {background-color: #d4ebff;}#sk-container-id-1 input.sk-hidden--visually {border: 0;clip: rect(1px 1px 1px 1px);clip: rect(1px, 1px, 1px, 1px);height: 1px;margin: -1px;overflow: hidden;padding: 0;position: absolute;width: 1px;}#sk-container-id-1 div.sk-estimator {font-family: monospace;background-color: #f0f8ff;border: 1px dotted black;border-radius: 0.25em;box-sizing: border-box;margin-bottom: 0.5em;}#sk-container-id-1 div.sk-estimator:hover {background-color: #d4ebff;}#sk-container-id-1 div.sk-parallel-item::after {content: \"\";width: 100%;border-bottom: 1px solid gray;flex-grow: 1;}#sk-container-id-1 div.sk-label:hover label.sk-toggleable__label {background-color: #d4ebff;}#sk-container-id-1 div.sk-serial::before {content: \"\";position: absolute;border-left: 1px solid gray;box-sizing: border-box;top: 0;bottom: 0;left: 50%;z-index: 0;}#sk-container-id-1 div.sk-serial {display: flex;flex-direction: column;align-items: center;background-color: white;padding-right: 0.2em;padding-left: 0.2em;position: relative;}#sk-container-id-1 div.sk-item {position: relative;z-index: 1;}#sk-container-id-1 div.sk-parallel {display: flex;align-items: stretch;justify-content: center;background-color: white;position: relative;}#sk-container-id-1 div.sk-item::before, #sk-container-id-1 div.sk-parallel-item::before {content: \"\";position: absolute;border-left: 1px solid gray;box-sizing: border-box;top: 0;bottom: 0;left: 50%;z-index: -1;}#sk-container-id-1 div.sk-parallel-item {display: flex;flex-direction: column;z-index: 1;position: relative;background-color: white;}#sk-container-id-1 div.sk-parallel-item:first-child::after {align-self: flex-end;width: 50%;}#sk-container-id-1 div.sk-parallel-item:last-child::after {align-self: flex-start;width: 50%;}#sk-container-id-1 div.sk-parallel-item:only-child::after {width: 0;}#sk-container-id-1 div.sk-dashed-wrapped {border: 1px dashed gray;margin: 0 0.4em 0.5em 0.4em;box-sizing: border-box;padding-bottom: 0.4em;background-color: white;}#sk-container-id-1 div.sk-label label {font-family: monospace;font-weight: bold;display: inline-block;line-height: 1.2em;}#sk-container-id-1 div.sk-label-container {text-align: center;}#sk-container-id-1 div.sk-container {/* jupyter's `normalize.less` sets `[hidden] { display: none; }` but bootstrap.min.css set `[hidden] { display: none !important; }` so we also need the `!important` here to be able to override the default hidden behavior on the sphinx rendered scikit-learn.org. See: https://github.com/scikit-learn/scikit-learn/issues/21755 */display: inline-block !important;position: relative;}#sk-container-id-1 div.sk-text-repr-fallback {display: none;}</style><div id=\"sk-container-id-1\" class=\"sk-top-container\"><div class=\"sk-text-repr-fallback\"><pre>RandomForestRegressor(max_depth=5, max_features=&#x27;log2&#x27;, random_state=40)</pre><b>In a Jupyter environment, please rerun this cell to show the HTML representation or trust the notebook. <br />On GitHub, the HTML representation is unable to render, please try loading this page with nbviewer.org.</b></div><div class=\"sk-container\" hidden><div class=\"sk-item\"><div class=\"sk-estimator sk-toggleable\"><input class=\"sk-toggleable__control sk-hidden--visually\" id=\"sk-estimator-id-1\" type=\"checkbox\" checked><label for=\"sk-estimator-id-1\" class=\"sk-toggleable__label sk-toggleable__label-arrow\">RandomForestRegressor</label><div class=\"sk-toggleable__content\"><pre>RandomForestRegressor(max_depth=5, max_features=&#x27;log2&#x27;, random_state=40)</pre></div></div></div></div></div>"
      ],
      "text/plain": [
       "RandomForestRegressor(max_depth=5, max_features='log2', random_state=40)"
      ]
     },
     "execution_count": 42,
     "metadata": {},
     "output_type": "execute_result"
    }
   ],
   "source": [
    "fit_rf.set_params(criterion='squared_error',max_features = 'log2',max_depth = 5)"
   ]
  },
  {
   "cell_type": "code",
   "execution_count": 43,
   "id": "05bb0bd7",
   "metadata": {},
   "outputs": [],
   "source": [
    "## OOB Rate"
   ]
  },
  {
   "cell_type": "code",
   "execution_count": 44,
   "id": "1beb17ca",
   "metadata": {},
   "outputs": [],
   "source": [
    "fit_rf.set_params(warm_start=True, \n",
    "                  oob_score=True)\n",
    "\n",
    "min_estimators = 15\n",
    "max_estimators = 1000\n",
    "\n",
    "error_rate = {}\n",
    "\n",
    "for i in range(min_estimators, max_estimators + 1):\n",
    "    fit_rf.set_params(n_estimators=i)\n",
    "    fit_rf.fit(training_set, class_set)\n",
    "\n",
    "    oob_error = 1 - fit_rf.oob_score_\n",
    "    error_rate[i] = oob_error"
   ]
  },
  {
   "cell_type": "code",
   "execution_count": 47,
   "id": "a024f605",
   "metadata": {},
   "outputs": [],
   "source": [
    "oob_series = pd.Series(error_rate)"
   ]
  },
  {
   "cell_type": "code",
   "execution_count": 48,
   "id": "8e6a4b7a",
   "metadata": {},
   "outputs": [
    {
     "data": {
      "text/plain": [
       "Text(0.5, 1.0, 'OOB Error Rate Across various Forest sizes \\n(From 15 to 1000 Trees)')"
      ]
     },
     "execution_count": 48,
     "metadata": {},
     "output_type": "execute_result"
    },
    {
     "data": {
      "image/png": "[encoded data removed]",
      "text/plain": [
       "<Figure size 720x432 with 1 Axes>"
      ]
     },
     "metadata": {},
     "output_type": "display_data"
    }
   ],
   "source": [
    "import matplotlib.pyplot as plt\n",
    "fig, ax = plt.subplots(figsize=(10,6))\n",
    "\n",
    "ax.set_facecolor('#fafafa')\n",
    "\n",
    "oob_series.plot(kind='line',color = 'red')\n",
    "plt.axhline(0.035,color='blue',linestyle='--')\n",
    "plt.axhline(0.04,color='blue',linestyle='--')\n",
    "plt.xlabel('n_estimators')\n",
    "plt.ylabel('OOB Error Rate')\n",
    "plt.title('OOB Error Rate Across various Forest sizes \\n(From 15 to 1000 Trees)')"
   ]
  },
  {
   "cell_type": "code",
   "execution_count": 49,
   "id": "018ac585",
   "metadata": {},
   "outputs": [
    {
     "data": {
      "text/html": [
       "<style>#sk-container-id-2 {color: black;background-color: white;}#sk-container-id-2 pre{padding: 0;}#sk-container-id-2 div.sk-toggleable {background-color: white;}#sk-container-id-2 label.sk-toggleable__label {cursor: pointer;display: block;width: 100%;margin-bottom: 0;padding: 0.3em;box-sizing: border-box;text-align: center;}#sk-container-id-2 label.sk-toggleable__label-arrow:before {content: \"▸\";float: left;margin-right: 0.25em;color: #696969;}#sk-container-id-2 label.sk-toggleable__label-arrow:hover:before {color: black;}#sk-container-id-2 div.sk-estimator:hover label.sk-toggleable__label-arrow:before {color: black;}#sk-container-id-2 div.sk-toggleable__content {max-height: 0;max-width: 0;overflow: hidden;text-align: left;background-color: #f0f8ff;}#sk-container-id-2 div.sk-toggleable__content pre {margin: 0.2em;color: black;border-radius: 0.25em;background-color: #f0f8ff;}#sk-container-id-2 input.sk-toggleable__control:checked~div.sk-toggleable__content {max-height: 200px;max-width: 100%;overflow: auto;}#sk-container-id-2 input.sk-toggleable__control:checked~label.sk-toggleable__label-arrow:before {content: \"▾\";}#sk-container-id-2 div.sk-estimator input.sk-toggleable__control:checked~label.sk-toggleable__label {background-color: #d4ebff;}#sk-container-id-2 div.sk-label input.sk-toggleable__control:checked~label.sk-toggleable__label {background-color: #d4ebff;}#sk-container-id-2 input.sk-hidden--visually {border: 0;clip: rect(1px 1px 1px 1px);clip: rect(1px, 1px, 1px, 1px);height: 1px;margin: -1px;overflow: hidden;padding: 0;position: absolute;width: 1px;}#sk-container-id-2 div.sk-estimator {font-family: monospace;background-color: #f0f8ff;border: 1px dotted black;border-radius: 0.25em;box-sizing: border-box;margin-bottom: 0.5em;}#sk-container-id-2 div.sk-estimator:hover {background-color: #d4ebff;}#sk-container-id-2 div.sk-parallel-item::after {content: \"\";width: 100%;border-bottom: 1px solid gray;flex-grow: 1;}#sk-container-id-2 div.sk-label:hover label.sk-toggleable__label {background-color: #d4ebff;}#sk-container-id-2 div.sk-serial::before {content: \"\";position: absolute;border-left: 1px solid gray;box-sizing: border-box;top: 0;bottom: 0;left: 50%;z-index: 0;}#sk-container-id-2 div.sk-serial {display: flex;flex-direction: column;align-items: center;background-color: white;padding-right: 0.2em;padding-left: 0.2em;position: relative;}#sk-container-id-2 div.sk-item {position: relative;z-index: 1;}#sk-container-id-2 div.sk-parallel {display: flex;align-items: stretch;justify-content: center;background-color: white;position: relative;}#sk-container-id-2 div.sk-item::before, #sk-container-id-2 div.sk-parallel-item::before {content: \"\";position: absolute;border-left: 1px solid gray;box-sizing: border-box;top: 0;bottom: 0;left: 50%;z-index: -1;}#sk-container-id-2 div.sk-parallel-item {display: flex;flex-direction: column;z-index: 1;position: relative;background-color: white;}#sk-container-id-2 div.sk-parallel-item:first-child::after {align-self: flex-end;width: 50%;}#sk-container-id-2 div.sk-parallel-item:last-child::after {align-self: flex-start;width: 50%;}#sk-container-id-2 div.sk-parallel-item:only-child::after {width: 0;}#sk-container-id-2 div.sk-dashed-wrapped {border: 1px dashed gray;margin: 0 0.4em 0.5em 0.4em;box-sizing: border-box;padding-bottom: 0.4em;background-color: white;}#sk-container-id-2 div.sk-label label {font-family: monospace;font-weight: bold;display: inline-block;line-height: 1.2em;}#sk-container-id-2 div.sk-label-container {text-align: center;}#sk-container-id-2 div.sk-container {/* jupyter's `normalize.less` sets `[hidden] { display: none; }` but bootstrap.min.css set `[hidden] { display: none !important; }` so we also need the `!important` here to be able to override the default hidden behavior on the sphinx rendered scikit-learn.org. See: https://github.com/scikit-learn/scikit-learn/issues/21755 */display: inline-block !important;position: relative;}#sk-container-id-2 div.sk-text-repr-fallback {display: none;}</style><div id=\"sk-container-id-2\" class=\"sk-top-container\"><div class=\"sk-text-repr-fallback\"><pre>RandomForestRegressor(max_depth=5, max_features=&#x27;log2&#x27;, n_estimators=600,\n",
       "                      random_state=40)</pre><b>In a Jupyter environment, please rerun this cell to show the HTML representation or trust the notebook. <br />On GitHub, the HTML representation is unable to render, please try loading this page with nbviewer.org.</b></div><div class=\"sk-container\" hidden><div class=\"sk-item\"><div class=\"sk-estimator sk-toggleable\"><input class=\"sk-toggleable__control sk-hidden--visually\" id=\"sk-estimator-id-2\" type=\"checkbox\" checked><label for=\"sk-estimator-id-2\" class=\"sk-toggleable__label sk-toggleable__label-arrow\">RandomForestRegressor</label><div class=\"sk-toggleable__content\"><pre>RandomForestRegressor(max_depth=5, max_features=&#x27;log2&#x27;, n_estimators=600,\n",
       "                      random_state=40)</pre></div></div></div></div></div>"
      ],
      "text/plain": [
       "RandomForestRegressor(max_depth=5, max_features='log2', n_estimators=600,\n",
       "                      random_state=40)"
      ]
     },
     "execution_count": 49,
     "metadata": {},
     "output_type": "execute_result"
    }
   ],
   "source": [
    "fit_rf.set_params(n_estimators=600,bootstrap=True,warm_start=False,oob_score=False)"
   ]
  },
  {
   "cell_type": "code",
   "execution_count": 50,
   "id": "d1622a5d",
   "metadata": {},
   "outputs": [],
   "source": [
    "## Train The Random Forest"
   ]
  },
  {
   "cell_type": "code",
   "execution_count": 51,
   "id": "567227b4",
   "metadata": {},
   "outputs": [
    {
     "data": {
      "text/html": [
       "<style>#sk-container-id-3 {color: black;background-color: white;}#sk-container-id-3 pre{padding: 0;}#sk-container-id-3 div.sk-toggleable {background-color: white;}#sk-container-id-3 label.sk-toggleable__label {cursor: pointer;display: block;width: 100%;margin-bottom: 0;padding: 0.3em;box-sizing: border-box;text-align: center;}#sk-container-id-3 label.sk-toggleable__label-arrow:before {content: \"▸\";float: left;margin-right: 0.25em;color: #696969;}#sk-container-id-3 label.sk-toggleable__label-arrow:hover:before {color: black;}#sk-container-id-3 div.sk-estimator:hover label.sk-toggleable__label-arrow:before {color: black;}#sk-container-id-3 div.sk-toggleable__content {max-height: 0;max-width: 0;overflow: hidden;text-align: left;background-color: #f0f8ff;}#sk-container-id-3 div.sk-toggleable__content pre {margin: 0.2em;color: black;border-radius: 0.25em;background-color: #f0f8ff;}#sk-container-id-3 input.sk-toggleable__control:checked~div.sk-toggleable__content {max-height: 200px;max-width: 100%;overflow: auto;}#sk-container-id-3 input.sk-toggleable__control:checked~label.sk-toggleable__label-arrow:before {content: \"▾\";}#sk-container-id-3 div.sk-estimator input.sk-toggleable__control:checked~label.sk-toggleable__label {background-color: #d4ebff;}#sk-container-id-3 div.sk-label input.sk-toggleable__control:checked~label.sk-toggleable__label {background-color: #d4ebff;}#sk-container-id-3 input.sk-hidden--visually {border: 0;clip: rect(1px 1px 1px 1px);clip: rect(1px, 1px, 1px, 1px);height: 1px;margin: -1px;overflow: hidden;padding: 0;position: absolute;width: 1px;}#sk-container-id-3 div.sk-estimator {font-family: monospace;background-color: #f0f8ff;border: 1px dotted black;border-radius: 0.25em;box-sizing: border-box;margin-bottom: 0.5em;}#sk-container-id-3 div.sk-estimator:hover {background-color: #d4ebff;}#sk-container-id-3 div.sk-parallel-item::after {content: \"\";width: 100%;border-bottom: 1px solid gray;flex-grow: 1;}#sk-container-id-3 div.sk-label:hover label.sk-toggleable__label {background-color: #d4ebff;}#sk-container-id-3 div.sk-serial::before {content: \"\";position: absolute;border-left: 1px solid gray;box-sizing: border-box;top: 0;bottom: 0;left: 50%;z-index: 0;}#sk-container-id-3 div.sk-serial {display: flex;flex-direction: column;align-items: center;background-color: white;padding-right: 0.2em;padding-left: 0.2em;position: relative;}#sk-container-id-3 div.sk-item {position: relative;z-index: 1;}#sk-container-id-3 div.sk-parallel {display: flex;align-items: stretch;justify-content: center;background-color: white;position: relative;}#sk-container-id-3 div.sk-item::before, #sk-container-id-3 div.sk-parallel-item::before {content: \"\";position: absolute;border-left: 1px solid gray;box-sizing: border-box;top: 0;bottom: 0;left: 50%;z-index: -1;}#sk-container-id-3 div.sk-parallel-item {display: flex;flex-direction: column;z-index: 1;position: relative;background-color: white;}#sk-container-id-3 div.sk-parallel-item:first-child::after {align-self: flex-end;width: 50%;}#sk-container-id-3 div.sk-parallel-item:last-child::after {align-self: flex-start;width: 50%;}#sk-container-id-3 div.sk-parallel-item:only-child::after {width: 0;}#sk-container-id-3 div.sk-dashed-wrapped {border: 1px dashed gray;margin: 0 0.4em 0.5em 0.4em;box-sizing: border-box;padding-bottom: 0.4em;background-color: white;}#sk-container-id-3 div.sk-label label {font-family: monospace;font-weight: bold;display: inline-block;line-height: 1.2em;}#sk-container-id-3 div.sk-label-container {text-align: center;}#sk-container-id-3 div.sk-container {/* jupyter's `normalize.less` sets `[hidden] { display: none; }` but bootstrap.min.css set `[hidden] { display: none !important; }` so we also need the `!important` here to be able to override the default hidden behavior on the sphinx rendered scikit-learn.org. See: https://github.com/scikit-learn/scikit-learn/issues/21755 */display: inline-block !important;position: relative;}#sk-container-id-3 div.sk-text-repr-fallback {display: none;}</style><div id=\"sk-container-id-3\" class=\"sk-top-container\"><div class=\"sk-text-repr-fallback\"><pre>RandomForestRegressor(max_depth=5, max_features=&#x27;log2&#x27;, n_estimators=600,\n",
       "                      random_state=40)</pre><b>In a Jupyter environment, please rerun this cell to show the HTML representation or trust the notebook. <br />On GitHub, the HTML representation is unable to render, please try loading this page with nbviewer.org.</b></div><div class=\"sk-container\" hidden><div class=\"sk-item\"><div class=\"sk-estimator sk-toggleable\"><input class=\"sk-toggleable__control sk-hidden--visually\" id=\"sk-estimator-id-3\" type=\"checkbox\" checked><label for=\"sk-estimator-id-3\" class=\"sk-toggleable__label sk-toggleable__label-arrow\">RandomForestRegressor</label><div class=\"sk-toggleable__content\"><pre>RandomForestRegressor(max_depth=5, max_features=&#x27;log2&#x27;, n_estimators=600,\n",
       "                      random_state=40)</pre></div></div></div></div></div>"
      ],
      "text/plain": [
       "RandomForestRegressor(max_depth=5, max_features='log2', n_estimators=600,\n",
       "                      random_state=40)"
      ]
     },
     "execution_count": 51,
     "metadata": {},
     "output_type": "execute_result"
    }
   ],
   "source": [
    "fit_rf.fit(training_set,class_set)"
   ]
  },
  {
   "cell_type": "code",
   "execution_count": 52,
   "id": "1d0f968f",
   "metadata": {},
   "outputs": [],
   "source": [
    "## Variable Importance"
   ]
  },
  {
   "cell_type": "code",
   "execution_count": 53,
   "id": "ca7c23ab",
   "metadata": {},
   "outputs": [],
   "source": [
    "def variable_importance(fit):\n",
    "    \"\"\"\n",
    "    Purpose\n",
    "    ----------\n",
    "    Checks if model is fitted CART model then produces variable importance\n",
    "    and respective indices in dictionary.\n",
    "\n",
    "    Parameters\n",
    "    ----------\n",
    "    * fit:  Fitted model containing the attribute feature_importances_\n",
    "\n",
    "    Returns\n",
    "    ----------\n",
    "    Dictionary containing arrays with importance score and index of columns\n",
    "    ordered in descending order of importance.\n",
    "    \"\"\"\n",
    "    try:\n",
    "        if not hasattr(fit, 'fit'):\n",
    "            return print(\"'{0}' [is not an instantiated model from scikit-learn]\".format(fit)) \n",
    "\n",
    "        # Captures whether the model has been trained\n",
    "        if not vars(fit)[\"estimators_\"]:\n",
    "            return print(\"Model does not appear to be trained.\")\n",
    "    except KeyError:\n",
    "        print(\"Model entered does not contain 'estimators_' attribute.\")\n",
    "\n",
    "    importances = fit.feature_importances_\n",
    "    indices = np.argsort(importances)[::-1]\n",
    "    return {'importance': importances,\n",
    "            'index': indices}"
   ]
  },
  {
   "cell_type": "code",
   "execution_count": 54,
   "id": "205d58f8",
   "metadata": {},
   "outputs": [
    {
     "name": "stdout",
     "output_type": "stream",
     "text": [
      "(11,)\n"
     ]
    }
   ],
   "source": [
    "var_imp_rf = variable_importance(fit_rf)\n",
    "\n",
    "importances_rf = var_imp_rf['importance']\n",
    "\n",
    "indices_rf = var_imp_rf['index']\n",
    "print(indices_rf.shape)"
   ]
  },
  {
   "cell_type": "code",
   "execution_count": 55,
   "id": "b43d22b3",
   "metadata": {},
   "outputs": [],
   "source": [
    "def print_var_importance(importance, indices, name_index):\n",
    "    \"\"\"\n",
    "    Purpose\n",
    "    ----------\n",
    "    Prints dependent variable names ordered from largest to smallest\n",
    "    based on information gain for CART model.\n",
    "    Parameters\n",
    "    ----------\n",
    "    * importance: Array returned from feature_importances_ for CART\n",
    "                models organized by dataframe index\n",
    "    * indices: Organized index of dataframe from largest to smallest\n",
    "                based on feature_importances_\n",
    "    * name_index: Name of columns included in model\n",
    "\n",
    "    Returns\n",
    "    ----------\n",
    "    Prints feature importance in descending order\n",
    "    \"\"\"\n",
    "    print(\"Feature ranking:\")\n",
    "\n",
    "    for f in range(0, indices.shape[0]):\n",
    "        i = f\n",
    "        print(\"{0}. The feature '{1}' has a Mean Decrease in Impurity of {2:.5f}\"\n",
    "              .format(f + 1,\n",
    "                      names_index[indices[i]],\n",
    "                      importance[indices[f]]))"
   ]
  },
  {
   "cell_type": "code",
   "execution_count": 63,
   "id": "394b5833",
   "metadata": {},
   "outputs": [
    {
     "name": "stdout",
     "output_type": "stream",
     "text": [
      "Index(['year', 'model', 'condition', 'cylinders', 'fuel', 'odometer',\n",
      "       'transmission', 'drive', 'type', 'paint_color', 'state'],\n",
      "      dtype='object')\n"
     ]
    }
   ],
   "source": [
    "names_index=CarsDf_x.columns\n",
    "print(names_index)"
   ]
  },
  {
   "cell_type": "code",
   "execution_count": 64,
   "id": "8fa12d32",
   "metadata": {},
   "outputs": [
    {
     "name": "stdout",
     "output_type": "stream",
     "text": [
      "Feature ranking:\n",
      "1. The feature 'year' has a Mean Decrease in Impurity of 0.36919\n",
      "2. The feature 'odometer' has a Mean Decrease in Impurity of 0.26938\n",
      "3. The feature 'transmission' has a Mean Decrease in Impurity of 0.13370\n",
      "4. The feature 'cylinders' has a Mean Decrease in Impurity of 0.07277\n",
      "5. The feature 'fuel' has a Mean Decrease in Impurity of 0.06657\n",
      "6. The feature 'type' has a Mean Decrease in Impurity of 0.04106\n",
      "7. The feature 'drive' has a Mean Decrease in Impurity of 0.02643\n",
      "8. The feature 'condition' has a Mean Decrease in Impurity of 0.00982\n",
      "9. The feature 'model' has a Mean Decrease in Impurity of 0.00885\n",
      "10. The feature 'paint_color' has a Mean Decrease in Impurity of 0.00124\n",
      "11. The feature 'state' has a Mean Decrease in Impurity of 0.00100\n"
     ]
    }
   ],
   "source": [
    "print_var_importance(importances_rf, indices_rf, names_index)"
   ]
  },
  {
   "cell_type": "code",
   "execution_count": 65,
   "id": "8617bd8c",
   "metadata": {},
   "outputs": [],
   "source": [
    "def variable_importance_plot(importance, indices, name_index):\n",
    "    \"\"\"\n",
    "    Purpose\n",
    "    ----------\n",
    "    Prints bar chart detailing variable importance for CART model\n",
    "    NOTE: feature_space list was created because the bar chart\n",
    "    was transposed and index would be in incorrect order.\n",
    "\n",
    "    Parameters\n",
    "    ----------\n",
    "    * importance: Array returned from feature_importances_ for CART\n",
    "                models organized by dataframe index\n",
    "    * indices: Organized index of dataframe from largest to smallest\n",
    "                based on feature_importances_\n",
    "    * name_index: Name of columns included in model\n",
    "\n",
    "    Returns:\n",
    "    ----------\n",
    "    Returns variable importance plot in descending order\n",
    "    \"\"\"\n",
    "    index = np.arange(len(names_index))\n",
    "\n",
    "    importance_desc = sorted(importance)\n",
    "    feature_space = []\n",
    "    for i in range(indices.shape[0] - 1, -1, -1):\n",
    "        feature_space.append(names_index[indices[i]])\n",
    "\n",
    "    fig, ax = plt.subplots(figsize=(10, 10))\n",
    "\n",
    "#     ax.set_axis_bgcolor('#fafafa')\n",
    "    plt.title('Feature importances for Random Forest Model\\\n",
    "    \\nBreast Cancer (Diagnostic)')\n",
    "    plt.barh(index,\n",
    "             importance_desc,\n",
    "             align=\"center\",\n",
    "             color = '#875FDB')\n",
    "    plt.yticks(index,\n",
    "               feature_space)\n",
    "\n",
    "    plt.ylim(-1, 30)\n",
    "    plt.xlim(0, max(importance_desc) + 0.01)\n",
    "    plt.xlabel('Mean Decrease in Impurity')\n",
    "    plt.ylabel('Feature')\n",
    "\n",
    "    plt.show()\n",
    "    plt.close()"
   ]
  },
  {
   "cell_type": "code",
   "execution_count": 66,
   "id": "abd19084",
   "metadata": {},
   "outputs": [
    {
     "data": {
      "image/png": "[encoded data removed]",
      "text/plain": [
       "<Figure size 720x720 with 1 Axes>"
      ]
     },
     "metadata": {},
     "output_type": "display_data"
    }
   ],
   "source": [
    "variable_importance_plot(importances_rf, indices_rf, names_index)"
   ]
  },
  {
   "cell_type": "code",
   "execution_count": null,
   "id": "e82adf33",
   "metadata": {},
   "outputs": [],
   "source": []
  },
  {
   "cell_type": "code",
   "execution_count": null,
   "id": "6a6adf79",
   "metadata": {},
   "outputs": [],
   "source": []
  },
  {
   "cell_type": "code",
   "execution_count": null,
   "id": "6a5f12a0",
   "metadata": {},
   "outputs": [],
   "source": []
  },
  {
   "cell_type": "code",
   "execution_count": null,
   "id": "69b834dd",
   "metadata": {},
   "outputs": [],
   "source": []
  }
 ],
 "metadata": {
  "kernelspec": {
   "display_name": "Python 3 (ipykernel)",
   "language": "python",
   "name": "python3"
  },
  "language_info": {
   "codemirror_mode": {
    "name": "ipython",
    "version": 3
   },
   "file_extension": ".py",
   "mimetype": "text/x-python",
   "name": "python",
   "nbconvert_exporter": "python",
   "pygments_lexer": "ipython3",
   "version": "3.9.12"
  }
 },
 "nbformat": 4,
 "nbformat_minor": 5
}
